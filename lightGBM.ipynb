{
 "cells": [
  {
   "cell_type": "markdown",
   "metadata": {},
   "source": [
    "## Statistical Models"
   ]
  },
  {
   "cell_type": "code",
   "execution_count": null,
   "metadata": {},
   "outputs": [],
   "source": [
    "# !pip3 install statsforecast\n",
    "# !pip3 install -U kaleido"
   ]
  },
  {
   "cell_type": "code",
   "execution_count": 1,
   "metadata": {},
   "outputs": [],
   "source": [
    "import lightgbm as lgb\n",
    "import pandas as pd\n",
    "import numpy as np\n",
    "import plotly.express as px\n",
    "import os"
   ]
  },
  {
   "cell_type": "markdown",
   "metadata": {},
   "source": [
    "### RENergetic"
   ]
  },
  {
   "cell_type": "code",
   "execution_count": 2,
   "metadata": {},
   "outputs": [],
   "source": [
    "renergetic_csv_path = 'E:\\master thesis\\datasets\\REnergetic\\debit2_2020_2021.csv'\n",
    "renergetic_NoOutlier_csv_path = 'E:\\master thesis\\datasets\\REnergetic\\debit2_2020_2021_NoOutlier.csv'\n",
    "rawData_NoOutlier = pd.read_csv(renergetic_NoOutlier_csv_path)\n",
    "rawData = pd.read_csv(renergetic_csv_path)"
   ]
  },
  {
   "cell_type": "code",
   "execution_count": 3,
   "metadata": {},
   "outputs": [
    {
     "name": "stderr",
     "output_type": "stream",
     "text": [
      "c:\\users\\reza\\appdata\\local\\programs\\python\\python37\\lib\\site-packages\\ipykernel_launcher.py:41: SettingWithCopyWarning: \n",
      "A value is trying to be set on a copy of a slice from a DataFrame.\n",
      "Try using .loc[row_indexer,col_indexer] = value instead\n",
      "\n",
      "See the caveats in the documentation: https://pandas.pydata.org/pandas-docs/stable/user_guide/indexing.html#returning-a-view-versus-a-copy\n",
      "c:\\users\\reza\\appdata\\local\\programs\\python\\python37\\lib\\site-packages\\ipykernel_launcher.py:42: SettingWithCopyWarning: \n",
      "A value is trying to be set on a copy of a slice from a DataFrame.\n",
      "Try using .loc[row_indexer,col_indexer] = value instead\n",
      "\n",
      "See the caveats in the documentation: https://pandas.pydata.org/pandas-docs/stable/user_guide/indexing.html#returning-a-view-versus-a-copy\n"
     ]
    }
   ],
   "source": [
    "# renergetic\n",
    "data = pd.DataFrame({\n",
    "                     \"unique_id\":rawData[\"OSR_Building\"],\n",
    "                     \"ds\":       rawData[\"timestamp\"],\n",
    "                     \"y\":        rawData[\"MW\"],\n",
    "                     \"m3_h\":     rawData[\"m3_h\"],\n",
    "                     \"TEMP_OUT\": rawData[\"TEMP_OUT\"],\n",
    "                     \"day_of_week\":    rawData[\"day_of_week\"]\n",
    "                     })\n",
    "\n",
    "data_NoOutlier = pd.DataFrame({\n",
    "                                \"unique_id\":rawData_NoOutlier[\"OSR_Building\"],\n",
    "                                \"ds\":       rawData_NoOutlier[\"timestamp\"],\n",
    "                                \"y\":        rawData_NoOutlier[\"MW\"],\n",
    "                                \"m3_h\":     rawData_NoOutlier[\"m3_h\"],\n",
    "                                \"TEMP_OUT\": rawData_NoOutlier[\"TEMP_OUT\"],\n",
    "                                \"day_of_week\":    rawData_NoOutlier[\"day_of_week\"]\n",
    "                                })\n",
    "\n",
    "trainEndBoundary = '2021-11-01'\n",
    "validStartBoundary = '2021-11-01'\n",
    "validEndBoundary = '2021-12-01'\n",
    "testStartBoundary = '2021-12-01'\n",
    "testEndBoundary = '2021-12-31'\n",
    "index = data['ds']\n",
    "train = data.loc[index <= trainEndBoundary]\n",
    "valid = data_NoOutlier.loc[(index >= validStartBoundary) & (index <= validEndBoundary)]\n",
    "# valid = data.loc[(index >= validStartBoundary) & (index <= validEndBoundary)]\n",
    "test  = data_NoOutlier.loc[(index >= testStartBoundary) & (index <= testEndBoundary)]\n",
    "# test  = data.loc[(index >= testStartBoundary) & (index <= testEndBoundary)]\n",
    "\n",
    "train_valid = pd.concat([train, valid])\n",
    "trainData = train_valid\n",
    "# trainData = train\n",
    "\n",
    "# valid_test = pd.concat([valid, test])\n",
    "# testData = valid_test\n",
    "# testData = valid\n",
    "testData = test\n",
    "\n",
    "testData['ds'] = testData['ds'].astype('datetime64[ns]')\n",
    "testData['ds'] = testData['ds'].dt.round(\"H\")\n",
    "trainData['ds'] = trainData['ds'].astype('datetime64[ns]')\n",
    "trainData['ds'] = trainData['ds'].dt.round(\"H\")\n",
    "\n",
    "lookback = 3*24\n",
    "dataFreq = '1h'"
   ]
  },
  {
   "cell_type": "markdown",
   "metadata": {},
   "source": [
    "### Office"
   ]
  },
  {
   "cell_type": "code",
   "execution_count": 30,
   "metadata": {},
   "outputs": [],
   "source": [
    "office_csv_path = 'E:\\master thesis\\datasets\\office dataset\\office.csv'\n",
    "os.path.exists(office_csv_path)\n",
    "rawData = pd.read_csv(office_csv_path)"
   ]
  },
  {
   "cell_type": "code",
   "execution_count": 31,
   "metadata": {},
   "outputs": [
    {
     "name": "stderr",
     "output_type": "stream",
     "text": [
      "c:\\users\\reza\\appdata\\local\\programs\\python\\python37\\lib\\site-packages\\ipykernel_launcher.py:33: SettingWithCopyWarning:\n",
      "\n",
      "\n",
      "A value is trying to be set on a copy of a slice from a DataFrame.\n",
      "Try using .loc[row_indexer,col_indexer] = value instead\n",
      "\n",
      "See the caveats in the documentation: https://pandas.pydata.org/pandas-docs/stable/user_guide/indexing.html#returning-a-view-versus-a-copy\n",
      "\n"
     ]
    }
   ],
   "source": [
    "# office\n",
    "data = pd.DataFrame({\n",
    "                     \"unique_id\"      : rawData[\"data_name\"],\n",
    "                     \"ds\"             : rawData[\"date\"],\n",
    "                     \"y\"              : rawData[\"energy_south_total\"],\n",
    "                     \"dew_temp\"       : rawData[\"dew_point_temperature_set_1d\"],\n",
    "                     \"humidity\"       : rawData[\"relative_humidity_set_1\"],\n",
    "                     \"solar_radiation\": rawData[\"solar_radiation_set_1\"],\n",
    "                     \"out_temp\"       : rawData[\"air_temp_set_1_2\"],\n",
    "                     \"in_temp\"        : rawData[\"internal_temp\"],\n",
    "                     \"occ\"            : rawData[\"occ_south_total\"],\n",
    "                     \"month\"          : rawData[\"month\"]\n",
    "                     })\n",
    "\n",
    "trainEndBoundary = '2019-02-03'\n",
    "validStartBoundary = '2019-02-03'\n",
    "validEndBoundary = '2019-02-10'\n",
    "testStartBoundary = '2019-02-10'\n",
    "testEndBoundary = '2019-02-21'\n",
    "index = data['ds']\n",
    "train = data.loc[index <= trainEndBoundary]\n",
    "valid = data.loc[(index >= validStartBoundary) & (index <= validEndBoundary)]\n",
    "test  = data.loc[(index >= testStartBoundary) & (index <= testEndBoundary)]\n",
    "\n",
    "train_valid = pd.concat([train, valid])\n",
    "trainData = train_valid\n",
    "# trainData = train\n",
    "\n",
    "# valid_test = pd.concat([valid, test])\n",
    "# testData = valid_test\n",
    "testData = test\n",
    "\n",
    "testData['ds'] = testData['ds'].astype('datetime64[ns]')\n",
    "trainData['ds'] = trainData['ds'].astype('datetime64[ns]')\n",
    "\n",
    "lookback = 3*4*24\n",
    "dataFreq = '15min'"
   ]
  },
  {
   "cell_type": "code",
   "execution_count": 32,
   "metadata": {},
   "outputs": [
    {
     "data": {
      "text/html": [
       "<div>\n",
       "<style scoped>\n",
       "    .dataframe tbody tr th:only-of-type {\n",
       "        vertical-align: middle;\n",
       "    }\n",
       "\n",
       "    .dataframe tbody tr th {\n",
       "        vertical-align: top;\n",
       "    }\n",
       "\n",
       "    .dataframe thead th {\n",
       "        text-align: right;\n",
       "    }\n",
       "</style>\n",
       "<table border=\"1\" class=\"dataframe\">\n",
       "  <thead>\n",
       "    <tr style=\"text-align: right;\">\n",
       "      <th></th>\n",
       "      <th>y</th>\n",
       "      <th>dew_temp</th>\n",
       "      <th>humidity</th>\n",
       "      <th>solar_radiation</th>\n",
       "      <th>out_temp</th>\n",
       "      <th>in_temp</th>\n",
       "      <th>occ</th>\n",
       "      <th>month</th>\n",
       "    </tr>\n",
       "  </thead>\n",
       "  <tbody>\n",
       "    <tr>\n",
       "      <th>23179</th>\n",
       "      <td>1.48</td>\n",
       "      <td>6.09</td>\n",
       "      <td>86.7</td>\n",
       "      <td>79.67</td>\n",
       "      <td>8.155</td>\n",
       "      <td>22.820000</td>\n",
       "      <td>0.0</td>\n",
       "      <td>2</td>\n",
       "    </tr>\n",
       "    <tr>\n",
       "      <th>23180</th>\n",
       "      <td>1.65</td>\n",
       "      <td>5.47</td>\n",
       "      <td>84.3</td>\n",
       "      <td>83.80</td>\n",
       "      <td>7.950</td>\n",
       "      <td>22.804469</td>\n",
       "      <td>0.0</td>\n",
       "      <td>2</td>\n",
       "    </tr>\n",
       "    <tr>\n",
       "      <th>23181</th>\n",
       "      <td>1.56</td>\n",
       "      <td>5.13</td>\n",
       "      <td>83.0</td>\n",
       "      <td>43.46</td>\n",
       "      <td>7.840</td>\n",
       "      <td>22.749813</td>\n",
       "      <td>0.0</td>\n",
       "      <td>2</td>\n",
       "    </tr>\n",
       "    <tr>\n",
       "      <th>23182</th>\n",
       "      <td>1.48</td>\n",
       "      <td>4.92</td>\n",
       "      <td>83.1</td>\n",
       "      <td>74.06</td>\n",
       "      <td>7.610</td>\n",
       "      <td>22.757594</td>\n",
       "      <td>0.0</td>\n",
       "      <td>2</td>\n",
       "    </tr>\n",
       "    <tr>\n",
       "      <th>23183</th>\n",
       "      <td>1.50</td>\n",
       "      <td>5.21</td>\n",
       "      <td>83.5</td>\n",
       "      <td>21.22</td>\n",
       "      <td>7.830</td>\n",
       "      <td>22.726375</td>\n",
       "      <td>0.0</td>\n",
       "      <td>2</td>\n",
       "    </tr>\n",
       "  </tbody>\n",
       "</table>\n",
       "</div>"
      ],
      "text/plain": [
       "          y  dew_temp  humidity  solar_radiation  out_temp    in_temp  occ  \\\n",
       "23179  1.48      6.09      86.7            79.67     8.155  22.820000  0.0   \n",
       "23180  1.65      5.47      84.3            83.80     7.950  22.804469  0.0   \n",
       "23181  1.56      5.13      83.0            43.46     7.840  22.749813  0.0   \n",
       "23182  1.48      4.92      83.1            74.06     7.610  22.757594  0.0   \n",
       "23183  1.50      5.21      83.5            21.22     7.830  22.726375  0.0   \n",
       "\n",
       "       month  \n",
       "23179      2  \n",
       "23180      2  \n",
       "23181      2  \n",
       "23182      2  \n",
       "23183      2  "
      ]
     },
     "execution_count": 32,
     "metadata": {},
     "output_type": "execute_result"
    }
   ],
   "source": [
    "all_keys = testData.columns.to_list()\n",
    "feature_keys = all_keys.copy()\n",
    "feature_keys.remove('unique_id')\n",
    "feature_keys.remove('ds')\n",
    "testData[feature_keys].head()"
   ]
  },
  {
   "cell_type": "code",
   "execution_count": 33,
   "metadata": {},
   "outputs": [],
   "source": [
    "### CREATE X,Y ####\n",
    "def create_xy(df, targetKey, lookback, prediction_horizon, shuffle = False):\n",
    "    x = []\n",
    "    y = []\n",
    "    df.reset_index(inplace=True, drop=True)\n",
    "    for i in range(0, len(df)):\n",
    "        if len(df.loc[(i + lookback):(i + lookback + prediction_horizon)]) < prediction_horizon:\n",
    "            break\n",
    "        x.append(df.loc[i:(i + lookback)-1])\n",
    "#         print(\"len x\", len(df.loc[i:(i + lookback)-1]))\n",
    "#         print(df.loc[i:(i + lookback)-1])\n",
    "        y.append(df[targetKey].loc[(i + lookback):(i + lookback + prediction_horizon)-1])\n",
    "#         print(\"len y\", len(df[targetKey].loc[(i + lookback):(i + lookback + prediction_horizon)-1]))\n",
    "#         print(df[targetKey].loc[(i + lookback):(i + lookback + prediction_horizon)-1])\n",
    "        \n",
    "    x = np.array(x)\n",
    "    y = np.array(y)\n",
    "    \n",
    "    return x,y"
   ]
  },
  {
   "cell_type": "code",
   "execution_count": 34,
   "metadata": {},
   "outputs": [],
   "source": [
    "### HYPERPARAMETERS ###\n",
    "prediction_horizon = 1\n",
    "train_x, train_y = create_xy(trainData[feature_keys], 'y', lookback, prediction_horizon)\n",
    "test_x, test_y = create_xy(testData[feature_keys], 'y', lookback, prediction_horizon)"
   ]
  },
  {
   "cell_type": "code",
   "execution_count": 35,
   "metadata": {},
   "outputs": [
    {
     "name": "stdout",
     "output_type": "stream",
     "text": [
      "(22891, 2304)\n",
      "(22891,)\n",
      "(768, 2304)\n",
      "(768,)\n"
     ]
    }
   ],
   "source": [
    "train_x = np.reshape(train_x, (train_x.shape[0], train_x.shape[1] * train_x.shape[2]))\n",
    "test_x  = np.reshape(test_x, (test_x.shape[0], test_x.shape[1] * test_x.shape[2]))\n",
    "train_y = train_y.flatten()\n",
    "test_y  = test_y.flatten()\n",
    "\n",
    "# train_x = train_x.astype(dtype='float32')\n",
    "# test_x  = test_x.astype(dtype='float32')\n",
    "# train_y = train_y.astype(dtype='float32')\n",
    "# test_y  = test_y.astype(dtype='float32')\n",
    "\n",
    "print(train_x.shape)\n",
    "print(train_y.shape)\n",
    "print(test_x.shape)\n",
    "print(test_y.shape)"
   ]
  },
  {
   "cell_type": "code",
   "execution_count": 36,
   "metadata": {},
   "outputs": [
    {
     "name": "stderr",
     "output_type": "stream",
     "text": [
      "c:\\users\\reza\\appdata\\local\\programs\\python\\python37\\lib\\site-packages\\lightgbm\\sklearn.py:736: UserWarning:\n",
      "\n",
      "'verbose' argument is deprecated and will be removed in a future release of LightGBM. Pass 'log_evaluation()' callback via 'callbacks' argument instead.\n",
      "\n"
     ]
    },
    {
     "data": {
      "text/plain": [
       "LGBMRegressor(boosting_type='dart', first_metric_only=True, max_depth=4,\n",
       "              n_estimators=2000, num_leaves=16)"
      ]
     },
     "execution_count": 36,
     "metadata": {},
     "output_type": "execute_result"
    }
   ],
   "source": [
    "params = {\n",
    "    'n_estimators': 2000,\n",
    "    'max_depth': 4,\n",
    "    'num_leaves': 2**4,\n",
    "    'learning_rate': 0.1,\n",
    "    'boosting_type': 'dart'\n",
    "}\n",
    "\n",
    "# model = lgb.LGBMRegressor(first_metric_only = True)\n",
    "model = lgb.LGBMRegressor(first_metric_only = True, **params)\n",
    "\n",
    "model.fit(train_x, train_y,\n",
    "          eval_metric = 'l1', \n",
    "          eval_set = [(test_x, test_y)],\n",
    "#           early_stopping_rounds = 10,\n",
    "          verbose = 0)"
   ]
  },
  {
   "cell_type": "code",
   "execution_count": 37,
   "metadata": {},
   "outputs": [
    {
     "name": "stdout",
     "output_type": "stream",
     "text": [
      "  LightGBM MAE: 3.3588\n"
     ]
    }
   ],
   "source": [
    "forecast = model.predict(test_x)\n",
    "print('  LightGBM MAE: %.4f' % (np.mean(np.abs(forecast - test_y))))"
   ]
  },
  {
   "cell_type": "code",
   "execution_count": 38,
   "metadata": {},
   "outputs": [
    {
     "data": {
      "image/png": "[encoded data removed]",
      "text/plain": [
       "<Figure size 1080x144 with 1 Axes>"
      ]
     },
     "metadata": {
      "needs_background": "light"
     },
     "output_type": "display_data"
    }
   ],
   "source": [
    "import matplotlib.pyplot as plt\n",
    "plot_x_size = 15\n",
    "plot_y_size = 2\n",
    "plt.rcParams['figure.figsize'] = [plot_x_size, plot_y_size]\n",
    "# series[-test_size:].plot(label = 'True')\n",
    "plt.plot(test_y, label = 'True')\n",
    "plt.plot(forecast, label = 'Forecast')\n",
    "plt.legend()\n",
    "plt.show()"
   ]
  },
  {
   "cell_type": "code",
   "execution_count": 39,
   "metadata": {},
   "outputs": [],
   "source": [
    "y_array = test_y\n",
    "yhat_array = forecast\n",
    "yList = []\n",
    "yHatList = []\n",
    "for idx in range(len(y_array)):\n",
    "    yList.append(y_array[idx])\n",
    "    yHatList.append(yhat_array[idx])\n",
    "\n",
    "results_df = pd.DataFrame(columns=['predicted', 'observed'])\n",
    "results_df['predicted'] = yHatList\n",
    "results_df['observed']  = yList\n",
    "\n",
    "# np.save('arima_office_pred.npy', results_df[\"predicted\"])\n",
    "# np.save('arima_office_true.npy', results_df[\"observed\"])\n"
   ]
  },
  {
   "cell_type": "code",
   "execution_count": 40,
   "metadata": {},
   "outputs": [],
   "source": [
    "# Performance metrics\n",
    "\n",
    "def MAE(pred, true):\n",
    "    return np.mean(np.abs(pred - true))\n",
    "\n",
    "def MSE(pred, true):\n",
    "    return np.mean((pred - true) ** 2)\n",
    "\n",
    "def RMSE(pred, true):\n",
    "    return np.sqrt(MSE(pred, true))\n",
    "\n",
    "def MAPE(pred, true):\n",
    "    return np.mean(np.abs((pred - true) / true))\n",
    "\n",
    "def sMAPE(pred, true):\n",
    "    return 100/len(true) * np.sum(2 * np.abs(pred - true) / (np.abs(true) + np.abs(pred)))\n",
    "\n",
    "def metric(pred, true):\n",
    "    pred = np.array(pred)\n",
    "    true = np.array(true)\n",
    "\n",
    "    mae = MAE(pred, true)\n",
    "    mse = MSE(pred, true)\n",
    "    rmse = RMSE(pred, true)\n",
    "    mape = MAPE(pred, true)\n",
    "    smape = sMAPE(pred, true)\n",
    "\n",
    "    return mae, mse, rmse, mape, smape"
   ]
  },
  {
   "cell_type": "code",
   "execution_count": 41,
   "metadata": {},
   "outputs": [
    {
     "data": {
      "text/html": [
       "<div>\n",
       "<style scoped>\n",
       "    .dataframe tbody tr th:only-of-type {\n",
       "        vertical-align: middle;\n",
       "    }\n",
       "\n",
       "    .dataframe tbody tr th {\n",
       "        vertical-align: top;\n",
       "    }\n",
       "\n",
       "    .dataframe thead th {\n",
       "        text-align: right;\n",
       "    }\n",
       "</style>\n",
       "<table border=\"1\" class=\"dataframe\">\n",
       "  <thead>\n",
       "    <tr style=\"text-align: right;\">\n",
       "      <th></th>\n",
       "      <th>predicted</th>\n",
       "      <th>observed</th>\n",
       "    </tr>\n",
       "  </thead>\n",
       "  <tbody>\n",
       "    <tr>\n",
       "      <th>0</th>\n",
       "      <td>17.800843</td>\n",
       "      <td>23.356316</td>\n",
       "    </tr>\n",
       "    <tr>\n",
       "      <th>1</th>\n",
       "      <td>20.286925</td>\n",
       "      <td>31.638421</td>\n",
       "    </tr>\n",
       "    <tr>\n",
       "      <th>2</th>\n",
       "      <td>20.794146</td>\n",
       "      <td>33.691731</td>\n",
       "    </tr>\n",
       "    <tr>\n",
       "      <th>3</th>\n",
       "      <td>24.359700</td>\n",
       "      <td>26.810222</td>\n",
       "    </tr>\n",
       "    <tr>\n",
       "      <th>4</th>\n",
       "      <td>22.744594</td>\n",
       "      <td>25.560071</td>\n",
       "    </tr>\n",
       "  </tbody>\n",
       "</table>\n",
       "</div>"
      ],
      "text/plain": [
       "   predicted   observed\n",
       "0  17.800843  23.356316\n",
       "1  20.286925  31.638421\n",
       "2  20.794146  33.691731\n",
       "3  24.359700  26.810222\n",
       "4  22.744594  25.560071"
      ]
     },
     "execution_count": 41,
     "metadata": {},
     "output_type": "execute_result"
    }
   ],
   "source": [
    "results_df.head()"
   ]
  },
  {
   "cell_type": "code",
   "execution_count": 42,
   "metadata": {},
   "outputs": [],
   "source": [
    "# results_df = pd.DataFrame(columns=['predicted', 'observed'])\n",
    "# results_df['predicted'] = np.load('arima_renergetic_pred.npy')\n",
    "# results_df['observed']  = np.load('arima_renergetic_true.npy')\n",
    "\n",
    "# Writing the figure visalizing the predictions and ground truth with performance metrics in the disk \n",
    "fig = px.line(results_df, x=results_df.index,  y=[\"observed\",\"predicted\"])\n",
    "fig.update_layout(\n",
    "height=400, \n",
    "width=700,\n",
    "xaxis_title=\"Horizon Time Steps\",\n",
    "yaxis_title=\"Normalized Patv\",\n",
    "legend_title=\"Variables\")\n",
    "\n",
    "mae, mse, rmse, mape, smape = metric(results_df['predicted'], results_df['observed'])\n",
    "figName = \"office_{:.2f}_{:.2f}_{:.2f}_{:.2f}_{:.2f}.png\".format(mae, mse, rmse, mape, smape)\n",
    "# figPath = os.path.join(outDirPath, figName)\n",
    "fig.write_image(figName)"
   ]
  },
  {
   "cell_type": "markdown",
   "metadata": {},
   "source": [
    "###  Hyperparameter Tuning"
   ]
  },
  {
   "cell_type": "code",
   "execution_count": 15,
   "metadata": {},
   "outputs": [],
   "source": [
    "from sklearn.model_selection import cross_val_score\n",
    "from sklearn.model_selection import RepeatedKFold"
   ]
  },
  {
   "cell_type": "markdown",
   "metadata": {},
   "source": [
    "#### Number of Trees"
   ]
  },
  {
   "cell_type": "code",
   "execution_count": 16,
   "metadata": {},
   "outputs": [
    {
     "name": "stdout",
     "output_type": "stream",
     "text": [
      " 10 --- MAE: -0.291 (0.006)\n",
      " 50 --- MAE: -0.070 (0.002)\n",
      "100 --- MAE: -0.070 (0.002)\n",
      "500 --- MAE: -0.072 (0.002)\n",
      "1000 --- MAE: -0.072 (0.002)\n",
      "2000 --- MAE: -0.072 (0.002)\n"
     ]
    },
    {
     "data": {
      "image/png": "[encoded data removed]",
      "text/plain": [
       "<Figure size 432x288 with 1 Axes>"
      ]
     },
     "metadata": {
      "needs_background": "light"
     },
     "output_type": "display_data"
    }
   ],
   "source": [
    "trees = [10, 50, 100, 500, 1000, 2000]\n",
    "\n",
    "results = []\n",
    "names = []\n",
    "for i in trees:\n",
    "    \n",
    "    params = {\n",
    "        'n_estimators': i,\n",
    "    }\n",
    "    \n",
    "    cv = RepeatedKFold(n_splits = 10, n_repeats = 3, random_state = 1)\n",
    "    scores = cross_val_score(lgb.LGBMRegressor(**params), train_x, train_y, scoring = 'neg_mean_absolute_error', cv = cv, n_jobs = -1)\n",
    "    results.append(scores)\n",
    "    names.append(i)\n",
    "    print('%3d --- MAE: %.3f (%.3f)' % (i, np.mean(scores), np.std(scores)))\n",
    "\n",
    "plt.boxplot(results, labels = names, showmeans = True)\n",
    "plt.show()"
   ]
  },
  {
   "cell_type": "markdown",
   "metadata": {},
   "source": [
    "#### Tree Depth"
   ]
  },
  {
   "cell_type": "code",
   "execution_count": null,
   "metadata": {},
   "outputs": [],
   "source": [
    "results = []\n",
    "names = []\n",
    "for i in range(1, 11):\n",
    "    \n",
    "    params = {\n",
    "        'max_depth': i,\n",
    "        'num_leaves': 2**i,\n",
    "    }\n",
    "    \n",
    "    cv = RepeatedKFold(n_splits = 10, n_repeats = 3, random_state = 1)\n",
    "    scores = cross_val_score(lgb.LGBMRegressor(**params), train_x, train_y, scoring = 'neg_mean_absolute_error', cv = cv, n_jobs = -1)\n",
    "    results.append(scores)\n",
    "    names.append(i)\n",
    "    print('%3d --- MAE: %.3f (%.3f)' % (i, np.mean(scores), np.std(scores)))\n",
    "\n",
    "plt.boxplot(results, labels = names, showmeans = True)\n",
    "plt.show()"
   ]
  },
  {
   "cell_type": "markdown",
   "metadata": {},
   "source": [
    "#### Learning Rate"
   ]
  },
  {
   "cell_type": "code",
   "execution_count": null,
   "metadata": {},
   "outputs": [],
   "source": [
    "rates = [0.0001, 0.001, 0.01, 0.1, 1.0]\n",
    "\n",
    "results = []\n",
    "names = []\n",
    "for i in rates:\n",
    "    \n",
    "    params = {\n",
    "        'learning_rate': i,\n",
    "    }\n",
    "    \n",
    "    cv = RepeatedKFold(n_splits = 10, n_repeats = 3, random_state = 1)\n",
    "    scores = cross_val_score(lgb.LGBMRegressor(**params), train_x, train_y, scoring = 'neg_mean_absolute_error', cv = cv, n_jobs = -1)\n",
    "    results.append(scores)\n",
    "    names.append(i)\n",
    "    print('%.3f --- MAE: %.3f (%.3f)' % (i, np.mean(scores), np.std(scores)))\n",
    "\n",
    "plt.boxplot(results, labels = names, showmeans = True)\n",
    "plt.show()"
   ]
  },
  {
   "cell_type": "markdown",
   "metadata": {},
   "source": [
    "#### Boosting Type\n",
    "\n",
    "- `gbdt`: Gradient Boosting Decision Tree (GDBT).\n",
    "- `dart`: Dropouts meet Multiple Additive Regression Trees (DART).\n",
    "- `goss`: Gradient-based One-Side Sampling (GOSS)."
   ]
  },
  {
   "cell_type": "code",
   "execution_count": null,
   "metadata": {},
   "outputs": [],
   "source": [
    "types = ['gbdt', 'dart', 'goss']\n",
    "\n",
    "results = []\n",
    "names = []\n",
    "for i in types:\n",
    "    \n",
    "    params = {\n",
    "        'boosting_type': i,\n",
    "    }\n",
    "    \n",
    "    cv = RepeatedKFold(n_splits = 10, n_repeats = 3, random_state = 1)\n",
    "    scores = cross_val_score(lgb.LGBMRegressor(**params), train_x, train_y, scoring = 'neg_mean_absolute_error', cv = cv, n_jobs = -1)\n",
    "    results.append(scores)\n",
    "    names.append(i)\n",
    "    print('%s --- MAE: %.3f (%.3f)' % (i, np.mean(scores), np.std(scores)))\n",
    "\n",
    "plt.boxplot(results, labels = names, showmeans = True)\n",
    "plt.show()"
   ]
  },
  {
   "cell_type": "markdown",
   "metadata": {},
   "source": [
    "#### More than one variable..."
   ]
  },
  {
   "cell_type": "code",
   "execution_count": null,
   "metadata": {},
   "outputs": [],
   "source": [
    "types = ['gbdt', 'dart', 'goss']\n",
    "\n",
    "results = []\n",
    "for i in types:\n",
    "    \n",
    "    for j in range(1, 11):\n",
    "    \n",
    "        params = {\n",
    "            'n_estimators': 2000,\n",
    "            'learning_rate': 0.1,\n",
    "            'max_depth': j,\n",
    "            'num_leaves': 2**j,\n",
    "            'boosting_type': i,\n",
    "        }\n",
    "\n",
    "        cv = RepeatedKFold(n_splits = 10, n_repeats = 3, random_state = 1)\n",
    "        scores = cross_val_score(lgb.LGBMRegressor(**params), train_x, train_y, scoring = 'neg_mean_absolute_error', cv = cv, n_jobs = -1)\n",
    "        results.append(scores)\n",
    "\n",
    "        print('%s %d --- MAE: %.3f (%.3f)' % (i, j, np.mean(scores), np.std(scores)))"
   ]
  },
  {
   "cell_type": "markdown",
   "metadata": {},
   "source": [
    "### Final Model"
   ]
  },
  {
   "cell_type": "code",
   "execution_count": null,
   "metadata": {},
   "outputs": [],
   "source": [
    "params = {\n",
    "    'n_estimators': 2000,\n",
    "    'max_depth': 4,\n",
    "    'num_leaves': 2**4,\n",
    "    'learning_rate': 0.1,\n",
    "    'boosting_type': 'dart'\n",
    "}\n",
    "\n",
    "model = lgb.LGBMRegressor(first_metric_only = True, **params)\n",
    "\n",
    "model.fit(train_x, train_y,\n",
    "          eval_metric = 'l1', \n",
    "          eval_set = [(test_x, test_y)],\n",
    "          #early_stopping_rounds = 10,\n",
    "          verbose = 0)\n",
    "\n",
    "forecast = model.predict(test_x)\n",
    "s1_naive = series[-29:-1].to_numpy()\n",
    "s7_naive = series[-35:-7].to_numpy()\n",
    "s30_naive = series[-56:-28].to_numpy()\n",
    "s365_naive = series[-364:-336].to_numpy()\n",
    "\n",
    "print('     Naive MAE: %.4f' % (np.mean(np.abs(s1_naive - test_y))))\n",
    "print('  s7-Naive MAE: %.4f' % (np.mean(np.abs(s7_naive - test_y))))\n",
    "print(' s30-Naive MAE: %.4f' % (np.mean(np.abs(s30_naive - test_y))))\n",
    "print('s365-Naive MAE: %.4f' % (np.mean(np.abs(s365_naive - test_y))))\n",
    "print('  LightGBM MAE: %.4f' % (np.mean(np.abs(forecast - test_y))))\n",
    "\n",
    "series[-test_size:].plot(marker = 'o', linestyle = '--')\n",
    "plt.plot(forecast, marker = 'o', linestyle = '--')\n",
    "plt.show()"
   ]
  }
 ],
 "metadata": {
  "kernelspec": {
   "display_name": "Python 3",
   "language": "python",
   "name": "python3"
  },
  "language_info": {
   "codemirror_mode": {
    "name": "ipython",
    "version": 3
   },
   "file_extension": ".py",
   "mimetype": "text/x-python",
   "name": "python",
   "nbconvert_exporter": "python",
   "pygments_lexer": "ipython3",
   "version": "3.7.9"
  },
  "vscode": {
   "interpreter": {
    "hash": "b61d3b54772dab106b5ecbd4b2b2a6e7fa0e17009d52dc93119a2d9307934e1a"
   }
  }
 },
 "nbformat": 4,
 "nbformat_minor": 2
}
