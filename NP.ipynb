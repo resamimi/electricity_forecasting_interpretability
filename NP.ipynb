{
  "nbformat": 4,
  "nbformat_minor": 0,
  "metadata": {
    "colab": {
      "provenance": []
    },
    "kernelspec": {
      "name": "python3",
      "display_name": "Python 3"
    },
    "language_info": {
      "name": "python"
    }
  },
  "cells": [
    {
      "cell_type": "markdown",
      "metadata": {
        "id": "IeYcYfUpgi5K"
      },
      "source": [
        "## NeuralProphet\n",
        "Reference: \\\\\n",
        "https://neuralprophet.com/contents.html"
      ]
    },
    {
      "cell_type": "code",
      "execution_count": null,
      "metadata": {
        "id": "mF0Q_Yt6GPZU"
      },
      "outputs": [],
      "source": [
        "!pip3 install neuralprophet==0.4.2"
      ]
    },
    {
      "cell_type": "code",
      "execution_count": null,
      "metadata": {
        "id": "m2H-chuqhuCo"
      },
      "outputs": [],
      "source": [
        "from neuralprophet import NeuralProphet, set_log_level\n",
        "set_log_level(\"ERROR\")\n",
        "from neuralprophet import set_random_seed\n",
        "set_random_seed(0)\n",
        "import pandas as pd\n",
        "import numpy as np\n",
        "import plotly.express as px\n"
      ]
    },
    {
      "cell_type": "markdown",
      "metadata": {
        "id": "RUZP3NFWrBjZ"
      },
      "source": [
        "### Office"
      ]
    },
    {
      "cell_type": "code",
      "execution_count": null,
      "metadata": {
        "id": "bLm9Y0wTcX1L"
      },
      "outputs": [],
      "source": [
        "office_csv_path     = '/content/drive/MyDrive/Interpretable Forecasting of Buildings Energy Consumption/code/outputs/data/office/final_office.csv'\n",
        "rawData = pd.read_csv(office_csv_path)"
      ]
    },
    {
      "cell_type": "code",
      "execution_count": null,
      "metadata": {
        "id": "tnfO_pp1nEI6"
      },
      "outputs": [],
      "source": [
        "rawData.head()"
      ]
    },
    {
      "cell_type": "code",
      "execution_count": null,
      "metadata": {
        "colab": {
          "base_uri": "https://localhost:8080/"
        },
        "id": "r-az-SBMWOoI",
        "outputId": "a16a5637-fc77-4de4-8a8b-e85cb2491e87"
      },
      "outputs": [
        {
          "name": "stderr",
          "output_type": "stream",
          "text": [
            "WARNING - (py.warnings._showwarnmsg) - <ipython-input-3-1f7c50cc8ad1>:31: SettingWithCopyWarning: \n",
            "A value is trying to be set on a copy of a slice from a DataFrame.\n",
            "Try using .loc[row_indexer,col_indexer] = value instead\n",
            "\n",
            "See the caveats in the documentation: https://pandas.pydata.org/pandas-docs/stable/user_guide/indexing.html#returning-a-view-versus-a-copy\n",
            "  testData['ds'] = testData['ds'].astype('datetime64[ns]')\n",
            "\n",
            "WARNING:py.warnings:<ipython-input-3-1f7c50cc8ad1>:31: SettingWithCopyWarning: \n",
            "A value is trying to be set on a copy of a slice from a DataFrame.\n",
            "Try using .loc[row_indexer,col_indexer] = value instead\n",
            "\n",
            "See the caveats in the documentation: https://pandas.pydata.org/pandas-docs/stable/user_guide/indexing.html#returning-a-view-versus-a-copy\n",
            "  testData['ds'] = testData['ds'].astype('datetime64[ns]')\n",
            "\n"
          ]
        }
      ],
      "source": [
        "# office\n",
        "data = pd.DataFrame({\"ds\"             : rawData[\"date\"],\n",
        "                     \"y\"              : rawData[\"energy_south_total\"],\n",
        "                     \"dew_temp\"       : rawData[\"dew_point_temperature_set_1d\"],\n",
        "                     \"humidity\"       : rawData[\"relative_humidity_set_1\"],\n",
        "                     \"solar_radiation\": rawData[\"solar_radiation_set_1\"],\n",
        "                     \"out_temp\"       : rawData[\"air_temp_set_1_2\"],\n",
        "                     \"in_temp\"        : rawData[\"internal_temp\"],\n",
        "                     \"occ\"            : rawData[\"occ_south_total\"],\n",
        "                     \"month\"          : rawData[\"month\"]\n",
        "                     })\n",
        "\n",
        "trainEndBoundary = '2019-02-03'\n",
        "validStartBoundary = '2019-02-03'\n",
        "validEndBoundary = '2019-02-10'\n",
        "testStartBoundary = '2019-02-10'\n",
        "testEndBoundary = '2019-02-21'\n",
        "index = data['ds']\n",
        "train = data.loc[index <= trainEndBoundary]\n",
        "valid = data.loc[(index >= validStartBoundary) & (index <= validEndBoundary)]\n",
        "test  = data.loc[(index >= testStartBoundary) & (index <= testEndBoundary)]\n",
        "\n",
        "train_valid = pd.concat([train, valid])\n",
        "trainData = train_valid\n",
        "# trainData = train\n",
        "\n",
        "# valid_test = pd.concat([valid, test])\n",
        "# testData = valid_test\n",
        "testData = test\n",
        "\n",
        "testData['ds'] = testData['ds'].astype('datetime64[ns]')\n",
        "trainData['ds'] = trainData['ds'].astype('datetime64[ns]')\n",
        "\n",
        "lagsNum = 3*4*24\n",
        "m = NeuralProphet(\n",
        "    n_forecasts=12,\n",
        "    n_lags=lagsNum,\n",
        "    num_hidden_layers=1,\n",
        "    normalize = 'standardize',\n",
        "    drop_missing=True\n",
        ")\n",
        "\n",
        "m = m.add_lagged_regressor(names=[\"occ\", \"in_temp\", \"out_temp\", \"solar_radiation\", \"humidity\", \"dew_temp\"])\n",
        "m = m.add_future_regressor(name=\"month\")\n",
        "m = m.highlight_nth_step_ahead_of_each_forecast(1)"
      ]
    },
    {
      "cell_type": "code",
      "execution_count": null,
      "metadata": {
        "colab": {
          "base_uri": "https://localhost:8080/"
        },
        "id": "rn_i3LTIsfqH",
        "outputId": "fa5f0b0d-24b0-4cbd-af92-391aaac10f1d"
      },
      "outputs": [
        {
          "name": "stdout",
          "output_type": "stream",
          "text": [
            "2019-02-02 23:45:00\n",
            "2019-02-03 00:00:00\n",
            "2019-02-09 23:45:00\n",
            "2019-02-10 00:00:00\n",
            "2019-02-20 23:45:00\n"
          ]
        }
      ],
      "source": [
        "print(train.iloc[-1]['ds'])\n",
        "print(valid.iloc[0]['ds'])\n",
        "print(valid.iloc[-1]['ds'])\n",
        "print(test.iloc[0]['ds'])\n",
        "print(test.iloc[-1]['ds'])"
      ]
    },
    {
      "cell_type": "code",
      "execution_count": null,
      "metadata": {
        "colab": {
          "base_uri": "https://localhost:8080/",
          "height": 17,
          "referenced_widgets": [
            "3abc28259849438088e931c82ab014db",
            "fb1131e3d40249cfa550e00d7a38aee4",
            "ac537cfc9b3c4545a81ec721d4f21427",
            "54c0add1a89f4d93b869147dee3f6e9d",
            "12006ff4c8174f05bfeae761444fb957",
            "4be8f3e8e9504561b57c4541cf0b1554",
            "34c5300ec4904d4f90eed7ddb7128e5a",
            "7f64fd0f72a546cb853dea8d3e9cd43f",
            "9d994672993041bf8740dd4ff1820291",
            "310e3bfe21f44365ba389a376934b150",
            "45e7cce157fe4067ad142510d085e6f5",
            "455b7b877f6e4d8ca5a858f708c92583",
            "41098ede6c014d71a901a1e105af776e",
            "51d10056706e43df823ad0040bdbc552",
            "ee7d7cbf13d1476499ba140e553747b3",
            "25ca3f6f04a7449983cb8289bf3f310d",
            "362950be542146fb9dc655283ceb9fbf",
            "f9d0e5df7c7d495e85e68a3320b6fc82",
            "6117b72921294718abb869a0bf0a1a1f",
            "1c68ddab991344ab89e33346baa5e177",
            "331b16c95ae9437eade79e19e9b7fd35",
            "7a0f84b476cc42f68c00d1363a8642a4"
          ]
        },
        "id": "jtAexuaHDm8N",
        "outputId": "a159658c-8a54-4041-c773-f3cecafcf934"
      },
      "outputs": [
        {
          "data": {
            "application/vnd.jupyter.widget-view+json": {
              "model_id": "3abc28259849438088e931c82ab014db",
              "version_major": 2,
              "version_minor": 0
            },
            "text/plain": [
              "  0%|          | 0/158 [00:00<?, ?it/s]"
            ]
          },
          "metadata": {},
          "output_type": "display_data"
        },
        {
          "data": {
            "application/vnd.jupyter.widget-view+json": {
              "model_id": "455b7b877f6e4d8ca5a858f708c92583",
              "version_major": 2,
              "version_minor": 0
            },
            "text/plain": [
              "  0%|          | 0/158 [00:00<?, ?it/s]"
            ]
          },
          "metadata": {},
          "output_type": "display_data"
        },
        {
          "name": "stderr",
          "output_type": "stream",
          "text": []
        }
      ],
      "source": [
        "metrics_train = m.fit(df=trainData, freq=\"15min\")"
      ]
    },
    {
      "cell_type": "markdown",
      "metadata": {
        "id": "pmxHJGUeq0xN"
      },
      "source": [
        "### RENergetic"
      ]
    },
    {
      "cell_type": "code",
      "execution_count": null,
      "metadata": {
        "id": "By01M-MOrIZK"
      },
      "outputs": [],
      "source": [
        "renergetic_csv_path = '/content/drive/MyDrive/Interpretable Forecasting of Buildings Energy Consumption/code/outputs/data/renergetic/debit2_2020_2021.csv'\n",
        "renergetic_NoOutlier_csv_path = '/content/drive/MyDrive/Interpretable Forecasting of Buildings Energy Consumption/code/outputs/data/renergetic/debit2_2020_2021_NoOutlier.csv'\n",
        "rawData_NoOutlier = pd.read_csv(renergetic_NoOutlier_csv_path)\n",
        "rawData = pd.read_csv(renergetic_csv_path)"
      ]
    },
    {
      "cell_type": "code",
      "execution_count": null,
      "metadata": {
        "colab": {
          "base_uri": "https://localhost:8080/"
        },
        "id": "osIE6Zggcj6p",
        "outputId": "6788d280-dced-4fa1-cc87-35baec25e025"
      },
      "outputs": [
        {
          "name": "stderr",
          "output_type": "stream",
          "text": [
            "WARNING - (py.warnings._showwarnmsg) - <ipython-input-3-9926979bfa5b>:37: SettingWithCopyWarning: \n",
            "A value is trying to be set on a copy of a slice from a DataFrame.\n",
            "Try using .loc[row_indexer,col_indexer] = value instead\n",
            "\n",
            "See the caveats in the documentation: https://pandas.pydata.org/pandas-docs/stable/user_guide/indexing.html#returning-a-view-versus-a-copy\n",
            "  testData['ds'] = testData['ds'].astype('datetime64[ns]')\n",
            "\n",
            "WARNING:py.warnings:<ipython-input-3-9926979bfa5b>:37: SettingWithCopyWarning: \n",
            "A value is trying to be set on a copy of a slice from a DataFrame.\n",
            "Try using .loc[row_indexer,col_indexer] = value instead\n",
            "\n",
            "See the caveats in the documentation: https://pandas.pydata.org/pandas-docs/stable/user_guide/indexing.html#returning-a-view-versus-a-copy\n",
            "  testData['ds'] = testData['ds'].astype('datetime64[ns]')\n",
            "\n",
            "WARNING - (py.warnings._showwarnmsg) - <ipython-input-3-9926979bfa5b>:38: SettingWithCopyWarning: \n",
            "A value is trying to be set on a copy of a slice from a DataFrame.\n",
            "Try using .loc[row_indexer,col_indexer] = value instead\n",
            "\n",
            "See the caveats in the documentation: https://pandas.pydata.org/pandas-docs/stable/user_guide/indexing.html#returning-a-view-versus-a-copy\n",
            "  testData['ds'] = testData['ds'].dt.round(\"H\")\n",
            "\n",
            "WARNING:py.warnings:<ipython-input-3-9926979bfa5b>:38: SettingWithCopyWarning: \n",
            "A value is trying to be set on a copy of a slice from a DataFrame.\n",
            "Try using .loc[row_indexer,col_indexer] = value instead\n",
            "\n",
            "See the caveats in the documentation: https://pandas.pydata.org/pandas-docs/stable/user_guide/indexing.html#returning-a-view-versus-a-copy\n",
            "  testData['ds'] = testData['ds'].dt.round(\"H\")\n",
            "\n"
          ]
        }
      ],
      "source": [
        "# renergetic\n",
        "data = pd.DataFrame({\"ds\":       rawData[\"timestamp\"],\n",
        "                     \"y\":        rawData[\"MW\"],\n",
        "                     \"m3_h\":     rawData[\"m3_h\"],\n",
        "                     \"TEMP_OUT\": rawData[\"TEMP_OUT\"],\n",
        "                     \"day_of_week\":    rawData[\"day_of_week\"]\n",
        "                     })\n",
        "\n",
        "data_NoOutlier = pd.DataFrame({\"ds\":       rawData_NoOutlier[\"timestamp\"],\n",
        "                                \"y\":        rawData_NoOutlier[\"MW\"],\n",
        "                                \"m3_h\":     rawData_NoOutlier[\"m3_h\"],\n",
        "                                \"TEMP_OUT\": rawData_NoOutlier[\"TEMP_OUT\"],\n",
        "                                \"day_of_week\":    rawData_NoOutlier[\"day_of_week\"]\n",
        "                                })\n",
        "\n",
        "trainEndBoundary = '2021-11-01'\n",
        "validStartBoundary = '2021-11-01'\n",
        "validEndBoundary = '2021-12-01'\n",
        "testStartBoundary = '2021-12-01'\n",
        "testEndBoundary = '2021-12-31'\n",
        "index = data['ds']\n",
        "train = data.loc[index <= trainEndBoundary]\n",
        "valid = data_NoOutlier.loc[(index >= validStartBoundary) & (index <= validEndBoundary)]\n",
        "# valid = data.loc[(index >= validStartBoundary) & (index <= validEndBoundary)]\n",
        "test  = data_NoOutlier.loc[(index >= testStartBoundary) & (index <= testEndBoundary)]\n",
        "# test  = data.loc[(index >= testStartBoundary) & (index <= testEndBoundary)]\n",
        "\n",
        "train_valid = pd.concat([train, valid])\n",
        "trainData = train_valid\n",
        "# trainData = train\n",
        "\n",
        "# valid_test = pd.concat([valid, test])\n",
        "# testData = valid_test\n",
        "# testData = valid\n",
        "testData = test\n",
        "\n",
        "testData['ds'] = testData['ds'].astype('datetime64[ns]')\n",
        "testData['ds'] = testData['ds'].dt.round(\"H\")\n",
        "trainData['ds'] = trainData['ds'].astype('datetime64[ns]')\n",
        "trainData['ds'] = trainData['ds'].dt.round(\"H\")\n",
        "\n",
        "lagsNum = 3*24\n",
        "m = NeuralProphet(\n",
        "    n_forecasts=12,\n",
        "    n_lags=lagsNum,\n",
        "    # num_hidden_layers=1,\n",
        "    normalize = 'standardize',\n",
        "    drop_missing=True\n",
        ")\n",
        "m = m.add_lagged_regressor(names=['m3_h', 'TEMP_OUT'])\n",
        "m = m.add_future_regressor(name='day_of_week')\n",
        "m = m.highlight_nth_step_ahead_of_each_forecast(1)\n"
      ]
    },
    {
      "cell_type": "code",
      "execution_count": null,
      "metadata": {
        "colab": {
          "base_uri": "https://localhost:8080/"
        },
        "id": "2248a5XKaK1T",
        "outputId": "0e26cf62-292f-4032-d7ab-0f32f9b515f7"
      },
      "outputs": [
        {
          "name": "stdout",
          "output_type": "stream",
          "text": [
            "2020-08-15 00:00:00\n",
            "2021-10-31 22:59:59.971\n",
            "2021-11-01 00:00:00.000\n",
            "2021-11-30 22:59:59.971\n",
            "2021-12-01 00:00:00\n",
            "2021-12-30 23:00:00\n"
          ]
        }
      ],
      "source": [
        "print(train.iloc[0]['ds'])\n",
        "print(train.iloc[-1]['ds'])\n",
        "print(valid.iloc[0]['ds'])\n",
        "print(valid.iloc[-1]['ds'])\n",
        "print(test.iloc[0]['ds'])\n",
        "print(test.iloc[-1]['ds'])"
      ]
    },
    {
      "cell_type": "code",
      "execution_count": null,
      "metadata": {
        "colab": {
          "base_uri": "https://localhost:8080/",
          "height": 49,
          "referenced_widgets": [
            "0d889075145c4196ae89dd7900879ad5",
            "7de73945836043c5a81178f6216d8038",
            "4879c3ee9df143cbaf573c2c7b18f9f7",
            "39b80142c4d843ea8a4ab79f75b3cced",
            "06d745ec850c4294b92c7c10edfc6cdb",
            "8f96354b94a9423b9a723f915a2c06d7",
            "56440433d5154dedbc7e7a6f711859b6",
            "a1464ea90c1a4af98a316e7236659372",
            "9c83d124cd3b445e83df64e28d94557b",
            "57e52c389df941a3bd748fc4411a305e",
            "ceda2340c0e74636847e3007e6e728f9"
          ]
        },
        "id": "zFtnusXfMS1Q",
        "outputId": "fe3eabd0-0cce-43d8-9bf8-76b6f7ff084b"
      },
      "outputs": [
        {
          "data": {
            "application/vnd.jupyter.widget-view+json": {
              "model_id": "0d889075145c4196ae89dd7900879ad5",
              "version_major": 2,
              "version_minor": 0
            },
            "text/plain": [
              "Finding best initial lr:   0%|          | 0/251 [00:00<?, ?it/s]"
            ]
          },
          "metadata": {
            "application/vnd.jupyter.widget-view+json": {
              "colab": {
                "custom_widget_manager": {
                  "url": "https://ssl.gstatic.com/colaboratory-static/widgets/colab-cdn-widget-manager/b3e629b1971e1542/manager.min.js"
                }
              }
            }
          },
          "output_type": "display_data"
        }
      ],
      "source": [
        "metrics_train = m.fit(df=trainData, freq=\"H\")"
      ]
    },
    {
      "cell_type": "markdown",
      "metadata": {
        "id": "G7Wv7s9IrOY3"
      },
      "source": [
        "### Prediction"
      ]
    },
    {
      "cell_type": "code",
      "execution_count": null,
      "metadata": {
        "id": "zbhNjnAsLB8y"
      },
      "outputs": [],
      "source": [
        "def forecastWithNP(testData, forecastStartBoundary=None, forecastHorizonStr='yhat1'):\n",
        "\n",
        "  forecast = m.predict(df=testData)\n",
        "  forecMod = forecast.dropna()\n",
        "  testDMod = testData.copy()\n",
        "  testDMod.set_index('ds', inplace=True)\n",
        "  forecMod.set_index('ds', inplace=True)\n",
        "  predIdx = forecMod.index\n",
        "  obsIdx  = testDMod.index\n",
        "\n",
        "  if forecastStartBoundary == None: forecastStartBoundary = testDMod.index[0]\n",
        "  forecastEndBoundary = testDMod.index[-1]\n",
        "  predSeries = forecMod[forecastHorizonStr].loc[(predIdx >= forecastStartBoundary) & (predIdx <= forecastEndBoundary)].astype('float32')\n",
        "  gtSeries   = testDMod['y'].loc[(obsIdx >= forecastStartBoundary) & (obsIdx <= forecastEndBoundary)].astype('float32')\n",
        "  gtPredDf   = pd.concat([gtSeries, predSeries], axis=1)\n",
        "  gtPredDf = gtPredDf.dropna()\n",
        "\n",
        "  resultsDict = {}\n",
        "  resultsDict['obs']  = gtPredDf['y']\n",
        "  resultsDict['pred'] = gtPredDf[forecastHorizonStr]\n",
        "\n",
        "  return resultsDict"
      ]
    },
    {
      "cell_type": "code",
      "execution_count": null,
      "metadata": {
        "id": "yYl9zHmiswrd"
      },
      "outputs": [],
      "source": [
        "#SMAPE - from  'https://vedexcel.com/how-to-calculate-smape-in-python/'\n",
        "def smape(obs, pred):\n",
        "  obs = np.array(obs)\n",
        "  pred = np.array(pred)\n",
        "  return 100/len(obs) * np.sum(2 * np.abs(pred - obs) / (np.abs(obs) + np.abs(pred)))"
      ]
    },
    {
      "cell_type": "code",
      "execution_count": null,
      "metadata": {
        "id": "KCAqCzD-776E"
      },
      "outputs": [],
      "source": [
        "# forecastStartBoundary = testDMod.index[0]\n",
        "# forecastStartBoundary = '2021-12-09'\n",
        "# forecastStartBoundary = '2019-02-12'\n",
        "# testResultsDict = forecastWithNP(testData, forecastStartBoundary)\n",
        "testResultsDict = forecastWithNP(testData.copy())"
      ]
    },
    {
      "cell_type": "code",
      "execution_count": null,
      "metadata": {
        "colab": {
          "base_uri": "https://localhost:8080/",
          "height": 560
        },
        "id": "JN0oFqGcsCk7",
        "outputId": "970c72b4-24b9-48fa-ae2e-029a26f91936"
      },
      "outputs": [
        {
          "name": "stdout",
          "output_type": "stream",
          "text": [
            "sMAPE Measure 36.742763161339646\n"
          ]
        },
        {
          "data": {
            "text/html": [
              "<html>\n",
              "<head><meta charset=\"utf-8\" /></head>\n",
              "<body>\n",
              "    <div>            <script src=\"https://cdnjs.cloudflare.com/ajax/libs/mathjax/2.7.5/MathJax.js?config=TeX-AMS-MML_SVG\"></script><script type=\"text/javascript\">if (window.MathJax && window.MathJax.Hub && window.MathJax.Hub.Config) {window.MathJax.Hub.Config({SVG: {font: \"STIX-Web\"}});}</script>                <script type=\"text/javascript\">window.PlotlyConfig = {MathJaxConfig: 'local'};</script>\n",
              "        <script src=\"https://cdn.plot.ly/plotly-2.18.2.min.js\"></script>                <div id=\"a3821586-5ab6-48a9-a9b8-2c3d4c68e581\" class=\"plotly-graph-div\" style=\"height:525px; width:100%;\"></div>            <script type=\"text/javascript\">                                    window.PLOTLYENV=window.PLOTLYENV || {};                                    if (document.getElementById(\"a3821586-5ab6-48a9-a9b8-2c3d4c68e581\")) {                    Plotly.newPlot(                        \"a3821586-5ab6-48a9-a9b8-2c3d4c68e581\",                        [{\"hovertemplate\":\"variable=observed electricity<br>ds=%{x}<br>value=%{y}<extra></extra>\",\"legendgroup\":\"observed electricity\",\"line\":{\"color\":\"#636efa\",\"dash\":\"solid\"},\"marker\":{\"symbol\":\"circle\"},\"mode\":\"lines\",\"name\":\"observed electricity\",\"showlegend\":true,\"x\":[\"2019-02-13T02:45:00\",\"2019-02-13T03:00:00\",\"2019-02-13T03:15:00\",\"2019-02-13T03:30:00\",\"2019-02-13T03:45:00\",\"2019-02-13T04:00:00\",\"2019-02-13T04:15:00\",\"2019-02-13T04:30:00\",\"2019-02-13T04:45:00\",\"2019-02-13T05:00:00\",\"2019-02-13T05:15:00\",\"2019-02-13T05:30:00\",\"2019-02-13T05:45:00\",\"2019-02-13T06:00:00\",\"2019-02-13T06:15:00\",\"2019-02-13T06:30:00\",\"2019-02-13T06:45:00\",\"2019-02-13T07:00:00\",\"2019-02-13T07:15:00\",\"2019-02-13T07:30:00\",\"2019-02-13T07:45:00\",\"2019-02-13T08:00:00\",\"2019-02-13T08:15:00\",\"2019-02-13T08:30:00\",\"2019-02-13T08:45:00\",\"2019-02-13T09:00:00\",\"2019-02-13T09:15:00\",\"2019-02-13T09:30:00\",\"2019-02-13T09:45:00\",\"2019-02-13T10:00:00\",\"2019-02-13T10:15:00\",\"2019-02-13T10:30:00\",\"2019-02-13T10:45:00\",\"2019-02-13T11:00:00\",\"2019-02-13T11:15:00\",\"2019-02-13T11:30:00\",\"2019-02-13T11:45:00\",\"2019-02-13T12:00:00\",\"2019-02-13T12:15:00\",\"2019-02-13T12:30:00\",\"2019-02-13T12:45:00\",\"2019-02-13T13:00:00\",\"2019-02-13T13:15:00\",\"2019-02-13T13:30:00\",\"2019-02-13T13:45:00\",\"2019-02-13T14:00:00\",\"2019-02-13T14:15:00\",\"2019-02-13T14:30:00\",\"2019-02-13T14:45:00\",\"2019-02-13T15:00:00\",\"2019-02-13T15:15:00\",\"2019-02-13T15:30:00\",\"2019-02-13T15:45:00\",\"2019-02-13T16:00:00\",\"2019-02-13T16:15:00\",\"2019-02-13T16:30:00\",\"2019-02-13T16:45:00\",\"2019-02-13T17:00:00\",\"2019-02-13T17:15:00\",\"2019-02-13T17:30:00\",\"2019-02-13T17:45:00\",\"2019-02-13T18:00:00\",\"2019-02-13T18:15:00\",\"2019-02-13T18:30:00\",\"2019-02-13T18:45:00\",\"2019-02-13T19:00:00\",\"2019-02-13T19:15:00\",\"2019-02-13T19:30:00\",\"2019-02-13T19:45:00\",\"2019-02-13T20:00:00\",\"2019-02-13T20:15:00\",\"2019-02-13T20:30:00\",\"2019-02-13T20:45:00\",\"2019-02-13T21:00:00\",\"2019-02-13T21:15:00\",\"2019-02-13T21:30:00\",\"2019-02-13T21:45:00\",\"2019-02-13T22:00:00\",\"2019-02-13T22:15:00\",\"2019-02-13T22:30:00\",\"2019-02-13T22:45:00\",\"2019-02-13T23:00:00\",\"2019-02-13T23:15:00\",\"2019-02-13T23:30:00\",\"2019-02-13T23:45:00\",\"2019-02-14T00:00:00\",\"2019-02-14T00:15:00\",\"2019-02-14T00:30:00\",\"2019-02-14T00:45:00\",\"2019-02-14T01:00:00\",\"2019-02-14T01:15:00\",\"2019-02-14T01:30:00\",\"2019-02-14T01:45:00\",\"2019-02-14T02:00:00\",\"2019-02-14T02:15:00\",\"2019-02-14T02:30:00\",\"2019-02-14T02:45:00\",\"2019-02-14T03:00:00\",\"2019-02-14T03:15:00\",\"2019-02-14T03:30:00\",\"2019-02-14T03:45:00\",\"2019-02-14T04:00:00\",\"2019-02-14T04:15:00\",\"2019-02-14T04:30:00\",\"2019-02-14T04:45:00\",\"2019-02-14T05:00:00\",\"2019-02-14T05:15:00\",\"2019-02-14T05:30:00\",\"2019-02-14T05:45:00\",\"2019-02-14T06:00:00\",\"2019-02-14T06:15:00\",\"2019-02-14T06:30:00\",\"2019-02-14T06:45:00\",\"2019-02-14T07:00:00\",\"2019-02-14T07:15:00\",\"2019-02-14T07:30:00\",\"2019-02-14T07:45:00\",\"2019-02-14T08:00:00\",\"2019-02-14T08:15:00\",\"2019-02-14T08:30:00\",\"2019-02-14T08:45:00\",\"2019-02-14T09:00:00\",\"2019-02-14T09:15:00\",\"2019-02-14T09:30:00\",\"2019-02-14T09:45:00\",\"2019-02-14T10:00:00\",\"2019-02-14T10:15:00\",\"2019-02-14T10:30:00\",\"2019-02-14T10:45:00\",\"2019-02-14T11:00:00\",\"2019-02-14T11:15:00\",\"2019-02-14T11:30:00\",\"2019-02-14T11:45:00\",\"2019-02-14T12:00:00\",\"2019-02-14T12:15:00\",\"2019-02-14T12:30:00\",\"2019-02-14T12:45:00\",\"2019-02-14T13:00:00\",\"2019-02-14T13:15:00\",\"2019-02-14T13:30:00\",\"2019-02-14T13:45:00\",\"2019-02-14T14:00:00\",\"2019-02-14T14:15:00\",\"2019-02-14T14:30:00\",\"2019-02-14T14:45:00\",\"2019-02-14T15:00:00\",\"2019-02-14T15:15:00\",\"2019-02-14T15:30:00\",\"2019-02-14T15:45:00\",\"2019-02-14T16:00:00\",\"2019-02-14T16:15:00\",\"2019-02-14T16:30:00\",\"2019-02-14T16:45:00\",\"2019-02-14T17:00:00\",\"2019-02-14T17:15:00\",\"2019-02-14T17:30:00\",\"2019-02-14T17:45:00\",\"2019-02-14T18:00:00\",\"2019-02-14T18:15:00\",\"2019-02-14T18:30:00\",\"2019-02-14T18:45:00\",\"2019-02-14T19:00:00\",\"2019-02-14T19:15:00\",\"2019-02-14T19:30:00\",\"2019-02-14T19:45:00\",\"2019-02-14T20:00:00\",\"2019-02-14T20:15:00\",\"2019-02-14T20:30:00\",\"2019-02-14T20:45:00\",\"2019-02-14T21:00:00\",\"2019-02-14T21:15:00\",\"2019-02-14T21:30:00\",\"2019-02-14T21:45:00\",\"2019-02-14T22:00:00\",\"2019-02-14T22:15:00\",\"2019-02-14T22:30:00\",\"2019-02-14T22:45:00\",\"2019-02-14T23:00:00\",\"2019-02-14T23:15:00\",\"2019-02-14T23:30:00\",\"2019-02-14T23:45:00\",\"2019-02-15T00:00:00\",\"2019-02-15T00:15:00\",\"2019-02-15T00:30:00\",\"2019-02-15T00:45:00\",\"2019-02-15T01:00:00\",\"2019-02-15T01:15:00\",\"2019-02-15T01:30:00\",\"2019-02-15T01:45:00\",\"2019-02-15T02:00:00\",\"2019-02-15T02:15:00\",\"2019-02-15T02:30:00\",\"2019-02-15T02:45:00\",\"2019-02-15T03:00:00\",\"2019-02-15T03:15:00\",\"2019-02-15T03:30:00\",\"2019-02-15T03:45:00\",\"2019-02-15T04:00:00\",\"2019-02-15T04:15:00\",\"2019-02-15T04:30:00\",\"2019-02-15T04:45:00\",\"2019-02-15T05:00:00\",\"2019-02-15T05:15:00\",\"2019-02-15T05:30:00\",\"2019-02-15T05:45:00\",\"2019-02-15T06:00:00\",\"2019-02-15T06:15:00\",\"2019-02-15T06:30:00\",\"2019-02-15T06:45:00\",\"2019-02-15T07:00:00\",\"2019-02-15T07:15:00\",\"2019-02-15T07:30:00\",\"2019-02-15T07:45:00\",\"2019-02-15T08:00:00\",\"2019-02-15T08:15:00\",\"2019-02-15T08:30:00\",\"2019-02-15T08:45:00\",\"2019-02-15T09:00:00\",\"2019-02-15T09:15:00\",\"2019-02-15T09:30:00\",\"2019-02-15T09:45:00\",\"2019-02-15T10:00:00\",\"2019-02-15T10:15:00\",\"2019-02-15T10:30:00\",\"2019-02-15T10:45:00\",\"2019-02-15T11:00:00\",\"2019-02-15T11:15:00\",\"2019-02-15T11:30:00\",\"2019-02-15T11:45:00\",\"2019-02-15T12:00:00\",\"2019-02-15T12:15:00\",\"2019-02-15T12:30:00\",\"2019-02-15T12:45:00\",\"2019-02-15T13:00:00\",\"2019-02-15T13:15:00\",\"2019-02-15T13:30:00\",\"2019-02-15T13:45:00\",\"2019-02-15T14:00:00\",\"2019-02-15T14:15:00\",\"2019-02-15T14:30:00\",\"2019-02-15T14:45:00\",\"2019-02-15T15:00:00\",\"2019-02-15T15:15:00\",\"2019-02-15T15:30:00\",\"2019-02-15T15:45:00\",\"2019-02-15T16:00:00\",\"2019-02-15T16:15:00\",\"2019-02-15T16:30:00\",\"2019-02-15T16:45:00\",\"2019-02-15T17:00:00\",\"2019-02-15T17:15:00\",\"2019-02-15T17:30:00\",\"2019-02-15T17:45:00\",\"2019-02-15T18:00:00\",\"2019-02-15T18:15:00\",\"2019-02-15T18:30:00\",\"2019-02-15T18:45:00\",\"2019-02-15T19:00:00\",\"2019-02-15T19:15:00\",\"2019-02-15T19:30:00\",\"2019-02-15T19:45:00\",\"2019-02-15T20:00:00\",\"2019-02-15T20:15:00\",\"2019-02-15T20:30:00\",\"2019-02-15T20:45:00\",\"2019-02-15T21:00:00\",\"2019-02-15T21:15:00\",\"2019-02-15T21:30:00\",\"2019-02-15T21:45:00\",\"2019-02-15T22:00:00\",\"2019-02-15T22:15:00\",\"2019-02-15T22:30:00\",\"2019-02-15T22:45:00\",\"2019-02-15T23:00:00\",\"2019-02-15T23:15:00\",\"2019-02-15T23:30:00\",\"2019-02-15T23:45:00\",\"2019-02-16T00:00:00\",\"2019-02-16T00:15:00\",\"2019-02-16T00:30:00\",\"2019-02-16T00:45:00\",\"2019-02-16T01:00:00\",\"2019-02-16T01:15:00\",\"2019-02-16T01:30:00\",\"2019-02-16T01:45:00\",\"2019-02-16T02:00:00\",\"2019-02-16T02:15:00\",\"2019-02-16T02:30:00\",\"2019-02-16T02:45:00\",\"2019-02-16T03:00:00\",\"2019-02-16T03:15:00\",\"2019-02-16T03:30:00\",\"2019-02-16T03:45:00\",\"2019-02-16T04:00:00\",\"2019-02-16T04:15:00\",\"2019-02-16T04:30:00\",\"2019-02-16T04:45:00\",\"2019-02-16T05:00:00\",\"2019-02-16T05:15:00\",\"2019-02-16T05:30:00\",\"2019-02-16T05:45:00\",\"2019-02-16T06:00:00\",\"2019-02-16T06:15:00\",\"2019-02-16T06:30:00\",\"2019-02-16T06:45:00\",\"2019-02-16T07:00:00\",\"2019-02-16T07:15:00\",\"2019-02-16T07:30:00\",\"2019-02-16T07:45:00\",\"2019-02-16T08:00:00\",\"2019-02-16T08:15:00\",\"2019-02-16T08:30:00\",\"2019-02-16T08:45:00\",\"2019-02-16T09:00:00\",\"2019-02-16T09:15:00\",\"2019-02-16T09:30:00\",\"2019-02-16T09:45:00\",\"2019-02-16T10:00:00\",\"2019-02-16T10:15:00\",\"2019-02-16T10:30:00\",\"2019-02-16T10:45:00\",\"2019-02-16T11:00:00\",\"2019-02-16T11:15:00\",\"2019-02-16T11:30:00\",\"2019-02-16T11:45:00\",\"2019-02-16T12:00:00\",\"2019-02-16T12:15:00\",\"2019-02-16T12:30:00\",\"2019-02-16T12:45:00\",\"2019-02-16T13:00:00\",\"2019-02-16T13:15:00\",\"2019-02-16T13:30:00\",\"2019-02-16T13:45:00\",\"2019-02-16T14:00:00\",\"2019-02-16T14:15:00\",\"2019-02-16T14:30:00\",\"2019-02-16T14:45:00\",\"2019-02-16T15:00:00\",\"2019-02-16T15:15:00\",\"2019-02-16T15:30:00\",\"2019-02-16T15:45:00\",\"2019-02-16T16:00:00\",\"2019-02-16T16:15:00\",\"2019-02-16T16:30:00\",\"2019-02-16T16:45:00\",\"2019-02-16T17:00:00\",\"2019-02-16T17:15:00\",\"2019-02-16T17:30:00\",\"2019-02-16T17:45:00\",\"2019-02-16T18:00:00\",\"2019-02-16T18:15:00\",\"2019-02-16T18:30:00\",\"2019-02-16T18:45:00\",\"2019-02-16T19:00:00\",\"2019-02-16T19:15:00\",\"2019-02-16T19:30:00\",\"2019-02-16T19:45:00\",\"2019-02-16T20:00:00\",\"2019-02-16T20:15:00\",\"2019-02-16T20:30:00\",\"2019-02-16T20:45:00\",\"2019-02-16T21:00:00\",\"2019-02-16T21:15:00\",\"2019-02-16T21:30:00\",\"2019-02-16T21:45:00\",\"2019-02-16T22:00:00\",\"2019-02-16T22:15:00\",\"2019-02-16T22:30:00\",\"2019-02-16T22:45:00\",\"2019-02-16T23:00:00\",\"2019-02-16T23:15:00\",\"2019-02-16T23:30:00\",\"2019-02-16T23:45:00\",\"2019-02-17T00:00:00\",\"2019-02-17T00:15:00\",\"2019-02-17T00:30:00\",\"2019-02-17T00:45:00\",\"2019-02-17T01:00:00\",\"2019-02-17T01:15:00\",\"2019-02-17T01:30:00\",\"2019-02-17T01:45:00\",\"2019-02-17T02:00:00\",\"2019-02-17T02:15:00\",\"2019-02-17T02:30:00\",\"2019-02-17T02:45:00\",\"2019-02-17T03:00:00\",\"2019-02-17T03:15:00\",\"2019-02-17T03:30:00\",\"2019-02-17T03:45:00\",\"2019-02-17T04:00:00\",\"2019-02-17T04:15:00\",\"2019-02-17T04:30:00\",\"2019-02-17T04:45:00\",\"2019-02-17T05:00:00\",\"2019-02-17T05:15:00\",\"2019-02-17T05:30:00\",\"2019-02-17T05:45:00\",\"2019-02-17T06:00:00\",\"2019-02-17T06:15:00\",\"2019-02-17T06:30:00\",\"2019-02-17T06:45:00\",\"2019-02-17T07:00:00\",\"2019-02-17T07:15:00\",\"2019-02-17T07:30:00\",\"2019-02-17T07:45:00\",\"2019-02-17T08:00:00\",\"2019-02-17T08:15:00\",\"2019-02-17T08:30:00\",\"2019-02-17T08:45:00\",\"2019-02-17T09:00:00\",\"2019-02-17T09:15:00\",\"2019-02-17T09:30:00\",\"2019-02-17T09:45:00\",\"2019-02-17T10:00:00\",\"2019-02-17T10:15:00\",\"2019-02-17T10:30:00\",\"2019-02-17T10:45:00\",\"2019-02-17T11:00:00\",\"2019-02-17T11:15:00\",\"2019-02-17T11:30:00\",\"2019-02-17T11:45:00\",\"2019-02-17T12:00:00\",\"2019-02-17T12:15:00\",\"2019-02-17T12:30:00\",\"2019-02-17T12:45:00\",\"2019-02-17T13:00:00\",\"2019-02-17T13:15:00\",\"2019-02-17T13:30:00\",\"2019-02-17T13:45:00\",\"2019-02-17T14:00:00\",\"2019-02-17T14:15:00\",\"2019-02-17T14:30:00\",\"2019-02-17T14:45:00\",\"2019-02-17T15:00:00\",\"2019-02-17T15:15:00\",\"2019-02-17T15:30:00\",\"2019-02-17T15:45:00\",\"2019-02-17T16:00:00\",\"2019-02-17T16:15:00\",\"2019-02-17T16:30:00\",\"2019-02-17T16:45:00\",\"2019-02-17T17:00:00\",\"2019-02-17T17:15:00\",\"2019-02-17T17:30:00\",\"2019-02-17T17:45:00\",\"2019-02-17T18:00:00\",\"2019-02-17T18:15:00\",\"2019-02-17T18:30:00\",\"2019-02-17T18:45:00\",\"2019-02-17T19:00:00\",\"2019-02-17T19:15:00\",\"2019-02-17T19:30:00\",\"2019-02-17T19:45:00\",\"2019-02-17T20:00:00\",\"2019-02-17T20:15:00\",\"2019-02-17T20:30:00\",\"2019-02-17T20:45:00\",\"2019-02-17T21:00:00\",\"2019-02-17T21:15:00\",\"2019-02-17T21:30:00\",\"2019-02-17T21:45:00\",\"2019-02-17T22:00:00\",\"2019-02-17T22:15:00\",\"2019-02-17T22:30:00\",\"2019-02-17T22:45:00\",\"2019-02-17T23:00:00\",\"2019-02-17T23:15:00\",\"2019-02-17T23:30:00\",\"2019-02-17T23:45:00\",\"2019-02-18T00:00:00\",\"2019-02-18T00:15:00\",\"2019-02-18T00:30:00\",\"2019-02-18T00:45:00\",\"2019-02-18T01:00:00\",\"2019-02-18T01:15:00\",\"2019-02-18T01:30:00\",\"2019-02-18T01:45:00\",\"2019-02-18T02:00:00\",\"2019-02-18T02:15:00\",\"2019-02-18T02:30:00\",\"2019-02-18T02:45:00\",\"2019-02-18T03:00:00\",\"2019-02-18T03:15:00\",\"2019-02-18T03:30:00\",\"2019-02-18T03:45:00\",\"2019-02-18T04:00:00\",\"2019-02-18T04:15:00\",\"2019-02-18T04:30:00\",\"2019-02-18T04:45:00\",\"2019-02-18T05:00:00\",\"2019-02-18T05:15:00\",\"2019-02-18T05:30:00\",\"2019-02-18T05:45:00\",\"2019-02-18T06:00:00\",\"2019-02-18T06:15:00\",\"2019-02-18T06:30:00\",\"2019-02-18T06:45:00\",\"2019-02-18T07:00:00\",\"2019-02-18T07:15:00\",\"2019-02-18T07:30:00\",\"2019-02-18T07:45:00\",\"2019-02-18T08:00:00\",\"2019-02-18T08:15:00\",\"2019-02-18T08:30:00\",\"2019-02-18T08:45:00\",\"2019-02-18T09:00:00\",\"2019-02-18T09:15:00\",\"2019-02-18T09:30:00\",\"2019-02-18T09:45:00\",\"2019-02-18T10:00:00\",\"2019-02-18T10:15:00\",\"2019-02-18T10:30:00\",\"2019-02-18T10:45:00\",\"2019-02-18T11:00:00\",\"2019-02-18T11:15:00\",\"2019-02-18T11:30:00\",\"2019-02-18T11:45:00\",\"2019-02-18T12:00:00\",\"2019-02-18T12:15:00\",\"2019-02-18T12:30:00\",\"2019-02-18T12:45:00\",\"2019-02-18T13:00:00\",\"2019-02-18T13:15:00\",\"2019-02-18T13:30:00\",\"2019-02-18T13:45:00\",\"2019-02-18T14:00:00\",\"2019-02-18T14:15:00\",\"2019-02-18T14:30:00\",\"2019-02-18T14:45:00\",\"2019-02-18T15:00:00\",\"2019-02-18T15:15:00\",\"2019-02-18T15:30:00\",\"2019-02-18T15:45:00\",\"2019-02-18T16:00:00\",\"2019-02-18T16:15:00\",\"2019-02-18T16:30:00\",\"2019-02-18T16:45:00\",\"2019-02-18T17:00:00\",\"2019-02-18T17:15:00\",\"2019-02-18T17:30:00\",\"2019-02-18T17:45:00\",\"2019-02-18T18:00:00\",\"2019-02-18T18:15:00\",\"2019-02-18T18:30:00\",\"2019-02-18T18:45:00\",\"2019-02-18T19:00:00\",\"2019-02-18T19:15:00\",\"2019-02-18T19:30:00\",\"2019-02-18T19:45:00\",\"2019-02-18T20:00:00\",\"2019-02-18T20:15:00\",\"2019-02-18T20:30:00\",\"2019-02-18T20:45:00\",\"2019-02-18T21:00:00\",\"2019-02-18T21:15:00\",\"2019-02-18T21:30:00\",\"2019-02-18T21:45:00\",\"2019-02-18T22:00:00\",\"2019-02-18T22:15:00\",\"2019-02-18T22:30:00\",\"2019-02-18T22:45:00\",\"2019-02-18T23:00:00\",\"2019-02-18T23:15:00\",\"2019-02-18T23:30:00\",\"2019-02-18T23:45:00\",\"2019-02-19T00:00:00\",\"2019-02-19T00:15:00\",\"2019-02-19T00:30:00\",\"2019-02-19T00:45:00\",\"2019-02-19T01:00:00\",\"2019-02-19T01:15:00\",\"2019-02-19T01:30:00\",\"2019-02-19T01:45:00\",\"2019-02-19T02:00:00\",\"2019-02-19T02:15:00\",\"2019-02-19T02:30:00\",\"2019-02-19T02:45:00\",\"2019-02-19T03:00:00\",\"2019-02-19T03:15:00\",\"2019-02-19T03:30:00\",\"2019-02-19T03:45:00\",\"2019-02-19T04:00:00\",\"2019-02-19T04:15:00\",\"2019-02-19T04:30:00\",\"2019-02-19T04:45:00\",\"2019-02-19T05:00:00\",\"2019-02-19T05:15:00\",\"2019-02-19T05:30:00\",\"2019-02-19T05:45:00\",\"2019-02-19T06:00:00\",\"2019-02-19T06:15:00\",\"2019-02-19T06:30:00\",\"2019-02-19T06:45:00\",\"2019-02-19T07:00:00\",\"2019-02-19T07:15:00\",\"2019-02-19T07:30:00\",\"2019-02-19T07:45:00\",\"2019-02-19T08:00:00\",\"2019-02-19T08:15:00\",\"2019-02-19T08:30:00\",\"2019-02-19T08:45:00\",\"2019-02-19T09:00:00\",\"2019-02-19T09:15:00\",\"2019-02-19T09:30:00\",\"2019-02-19T09:45:00\",\"2019-02-19T10:00:00\",\"2019-02-19T10:15:00\",\"2019-02-19T10:30:00\",\"2019-02-19T10:45:00\",\"2019-02-19T11:00:00\",\"2019-02-19T11:15:00\",\"2019-02-19T11:30:00\",\"2019-02-19T11:45:00\",\"2019-02-19T12:00:00\",\"2019-02-19T12:15:00\",\"2019-02-19T12:30:00\",\"2019-02-19T12:45:00\",\"2019-02-19T13:00:00\",\"2019-02-19T13:15:00\",\"2019-02-19T13:30:00\",\"2019-02-19T13:45:00\",\"2019-02-19T14:00:00\",\"2019-02-19T14:15:00\",\"2019-02-19T14:30:00\",\"2019-02-19T14:45:00\",\"2019-02-19T15:00:00\",\"2019-02-19T15:15:00\",\"2019-02-19T15:30:00\",\"2019-02-19T15:45:00\",\"2019-02-19T16:00:00\",\"2019-02-19T16:15:00\",\"2019-02-19T16:30:00\",\"2019-02-19T16:45:00\",\"2019-02-19T17:00:00\",\"2019-02-19T17:15:00\",\"2019-02-19T17:30:00\",\"2019-02-19T17:45:00\",\"2019-02-19T18:00:00\",\"2019-02-19T18:15:00\",\"2019-02-19T18:30:00\",\"2019-02-19T18:45:00\",\"2019-02-19T19:00:00\",\"2019-02-19T19:15:00\",\"2019-02-19T19:30:00\",\"2019-02-19T19:45:00\",\"2019-02-19T20:00:00\",\"2019-02-19T20:15:00\",\"2019-02-19T20:30:00\",\"2019-02-19T20:45:00\",\"2019-02-19T21:00:00\",\"2019-02-19T21:15:00\",\"2019-02-19T21:30:00\",\"2019-02-19T21:45:00\",\"2019-02-19T22:00:00\",\"2019-02-19T22:15:00\",\"2019-02-19T22:30:00\",\"2019-02-19T22:45:00\",\"2019-02-19T23:00:00\",\"2019-02-19T23:15:00\",\"2019-02-19T23:30:00\",\"2019-02-19T23:45:00\",\"2019-02-20T00:00:00\",\"2019-02-20T00:15:00\",\"2019-02-20T00:30:00\",\"2019-02-20T00:45:00\",\"2019-02-20T01:00:00\",\"2019-02-20T01:15:00\",\"2019-02-20T01:30:00\",\"2019-02-20T01:45:00\",\"2019-02-20T02:00:00\",\"2019-02-20T02:15:00\",\"2019-02-20T02:30:00\",\"2019-02-20T02:45:00\",\"2019-02-20T03:00:00\",\"2019-02-20T03:15:00\",\"2019-02-20T03:30:00\",\"2019-02-20T03:45:00\",\"2019-02-20T04:00:00\",\"2019-02-20T04:15:00\",\"2019-02-20T04:30:00\",\"2019-02-20T04:45:00\",\"2019-02-20T05:00:00\",\"2019-02-20T05:15:00\",\"2019-02-20T05:30:00\",\"2019-02-20T05:45:00\",\"2019-02-20T06:00:00\",\"2019-02-20T06:15:00\",\"2019-02-20T06:30:00\",\"2019-02-20T06:45:00\",\"2019-02-20T07:00:00\",\"2019-02-20T07:15:00\",\"2019-02-20T07:30:00\",\"2019-02-20T07:45:00\",\"2019-02-20T08:00:00\",\"2019-02-20T08:15:00\",\"2019-02-20T08:30:00\",\"2019-02-20T08:45:00\",\"2019-02-20T09:00:00\",\"2019-02-20T09:15:00\",\"2019-02-20T09:30:00\",\"2019-02-20T09:45:00\",\"2019-02-20T10:00:00\",\"2019-02-20T10:15:00\",\"2019-02-20T10:30:00\",\"2019-02-20T10:45:00\",\"2019-02-20T11:00:00\",\"2019-02-20T11:15:00\",\"2019-02-20T11:30:00\",\"2019-02-20T11:45:00\",\"2019-02-20T12:00:00\",\"2019-02-20T12:15:00\",\"2019-02-20T12:30:00\",\"2019-02-20T12:45:00\",\"2019-02-20T13:00:00\",\"2019-02-20T13:15:00\",\"2019-02-20T13:30:00\",\"2019-02-20T13:45:00\",\"2019-02-20T14:00:00\",\"2019-02-20T14:15:00\",\"2019-02-20T14:30:00\",\"2019-02-20T14:45:00\",\"2019-02-20T15:00:00\",\"2019-02-20T15:15:00\",\"2019-02-20T15:30:00\",\"2019-02-20T15:45:00\",\"2019-02-20T16:00:00\",\"2019-02-20T16:15:00\",\"2019-02-20T16:30:00\",\"2019-02-20T16:45:00\",\"2019-02-20T17:00:00\",\"2019-02-20T17:15:00\",\"2019-02-20T17:30:00\",\"2019-02-20T17:45:00\",\"2019-02-20T18:00:00\",\"2019-02-20T18:15:00\",\"2019-02-20T18:30:00\",\"2019-02-20T18:45:00\",\"2019-02-20T19:00:00\",\"2019-02-20T19:15:00\",\"2019-02-20T19:30:00\",\"2019-02-20T19:45:00\",\"2019-02-20T20:00:00\",\"2019-02-20T20:15:00\",\"2019-02-20T20:30:00\",\"2019-02-20T20:45:00\",\"2019-02-20T21:00:00\"],\"xaxis\":\"x\",\"y\":[28.407122,17.761137,4.6823444,6.9844446,13.698889,3.8545,2.12,2.24,2.11,19.378685,23.525333,4.2978334,3.4078948,5.704412,1.56,1.52,1.55,1.525,1.5,17.159737,5.411111,1.3933333,1.3866667,1.455,1.4733334,1.4666667,1.48,1.4533334,10.376667,14.274117,7.2933335,11.492222,11.303684,4.251111,1.4066666,1.4,1.7,1.6333333,10.5911665,2.3578947,1.9,1.6,2.2692308,4.2564616,4.5076923,6.476923,10.4238,13.952051,29.641457,14.890688,15.540854,26.878807,21.680065,32.585476,24.827158,27.263334,19.497833,27.643333,18.896078,16.4495,12.716666,15.189412,19.398947,25.987368,30.137352,28.296843,25.753334,28.472368,24.232895,15.1195,13.6455555,14.677778,17.722807,13.086667,13.216666,18.387142,14.473333,13.992857,17.59456,13.383333,14.054412,13.091666,15.327018,12.49,12.216666,14.358334,11.76,12.902745,15.025877,12.691667,10.111333,22.565351,13.43,16.97807,27.787222,15.162106,8.663889,8.980166,17.552778,17.031666,6.857143,6.498125,7.9666667,5.366667,21.082106,10.3538885,9.243333,5.4870586,4.59375,2.5,2.55,4.406579,2.75,2.64,14.310111,3.521421,4.3252354,2.356,2.465,2.734,2.723,2.552,2.401,2.43,2.49,2.49,2.49,4.332105,2.49,2.49,2.49,2.645,2.7833333,2.7557142,10.17254,2.647143,2.622857,2.5785713,2.5142858,2.4566667,2.66,5.428,8.618889,7.0666666,7.0833335,7.425,9.101158,8.028,8.415,12.240556,9.447222,9.979333,10.224444,12.123555,10.900666,13.380409,13.004784,12.025,12.244445,14.798889,12.580833,12.844444,24.846985,33.59,40.36462,39.371666,33.400555,23.062222,18.173,14.275,19.264462,14.6975,13.878,13.776,18.509052,13.98,13.771334,14.244667,15.999444,15.807649,12.791667,14.23875,11.367333,11.036667,11.28,13.324473,10.257222,8.368,8.802222,7.383333,5.715,4.8283334,4.5561404,3.8866668,3.95,3.94,4.05,3.87,5.797222,8.206316,16.427368,3.95,3.6333334,3.6,2.975,2.35,2.2,3.1844444,2.6,12.5592985,17.801111,10.525,6.619123,3.4,6.0466666,4.505758,10.354849,4.421483,17.257475,25.699139,25.078989,22.797165,20.480505,9.301818,8.583687,10.1,7.3105264,2.675,14.005,25.530176,22.918089,23.206112,20.4655,4.3828073,18.664316,12.971,6.9175,11.157353,31.67109,28.837334,27.436666,28.570555,32.617367,30.85421,29.68421,31.56,24.446358,30.363958,27.091764,10.9975,13.515445,11.84,12.56,27.898,29.90079,26.584211,20.461666,18.930834,20.386667,14.13,13.940666,14.617333,16.37544,13.503031,13.220227,12.689091,12.595454,13.292374,13.829932,12.921212,17.54016,14.988384,13.924899,12.18,14.794444,15.964666,24.164444,24.327156,12.507193,10.816316,9.473056,22.66,21.109804,24.829035,10.220889,16.836052,27.975527,22.513334,15.282,22.038631,24.674314,22.991112,23.581667,23.253334,24.01772,24.165833,29.01111,24.642105,25.677221,22.373333,22.070196,23.091667,23.807058,23.341352,23.846508,25.101692,25.088572,21.86361,21.897858,11.122941,1.7,1.7,1.7,1.68,1.7,12.512222,11.594604,1.93,1.6,1.65,1.7,1.73,1.8,1.81,1.9,18.638334,7.262857,1.68,1.75,1.8,1.85,1.8,1.825,1.8166667,3.8744445,19.645555,1.725,1.8083333,1.8066666,1.86,1.7571429,1.735,2.7,1.755,9.545,12.59875,1.7416667,1.6916667,1.685,1.6033334,1.5616666,1.5,1.6,1.7,13.055,10.299334,1.7,1.7,1.7,1.7,1.87,2.0,1.95,1.9,1.92,3.09375,1.95,1.92,1.9,1.775,2.9254901,1.925,2.18,3.8447058,2.16,2.14,2.12,2.0833333,2.0,1.9,1.66,9.291166,19.823381,7.2855554,2.0125,2.0833333,1.9,1.8777778,1.8355556,2.9593334,3.5605848,1.7888889,21.715666,2.8244445,2.6127486,1.6333333,1.7,1.7,3.6166666,2.6022222,5.0278335,22.538773,26.87436,23.685385,23.087744,21.74577,22.74489,24.154488,25.101215,22.45265,23.04312,28.267712,24.183365,23.064974,20.225294,18.275555,22.066668,23.224167,24.381666,25.539167,26.696667,27.854166,25.208334,24.608334,25.332941,25.385555,25.355,23.635,23.782223,23.98889,28.369444,26.377777,27.327778,27.247059,26.029411,27.442223,27.659117,25.363333,27.247059,28.472631,31.608334,26.355556,26.736841,26.222221,27.516666,26.3,26.722221,26.119444,25.966667,26.5,29.489473,25.872631,26.398947,26.232222,25.005,26.636843,25.565556,25.61111,27.411112,28.955263,27.677778,25.390526,24.035,13.426111,11.78625,10.327778,11.357368,17.174473,15.371111,26.555264,25.366667,27.853157,24.25,25.746078,30.008333,32.685,31.247059,29.904902,31.39375,29.094736,28.295,27.385555,27.764141,27.930622,26.045933,25.550718,25.648485,23.943182,28.409546,23.413013,21.023588,23.043636,23.243889,23.990526,24.38421,25.811111,24.853235,26.225,27.94342,24.025438,24.678333,25.661112,25.694445,23.99728,22.094,25.07,25.850878,29.558332,26.398947,24.797222,25.302105,26.175327,24.958986,24.557648,24.656424,24.688358,28.263071,31.668545,25.009691,24.057941,25.823824,25.523653,24.22392,24.67226,24.562353,25.589289,30.514118,26.767895,24.257895,23.823334,22.7045,23.621052,23.587646,24.610714,25.597744,25.468254,28.637857,25.733835,24.86297,25.4,24.69,26.475,26.005,22.569,23.756842,28.236364,26.489035,25.086863,26.95625,28.374903,29.674215,26.59,27.411112,28.45614,28.22807,27.098246,27.402779,26.56889,28.431684,29.64842,29.0,29.396667,27.055555,32.10816,30.895,30.285,28.831112,31.025555,32.531,34.854443,32.46578,30.07619,29.456667,32.76307,36.351334,32.208088,27.9,23.855,25.35389,27.168333,27.335,28.291666,27.8375,26.14853,30.484211,28.690834,26.86342,27.149342,28.193157,27.2875,25.147223,25.351974,27.2,26.706667,31.19111,26.23579,27.04,26.688627,26.76111,27.047058,27.385527,27.755882,27.175,28.688236,32.07,26.666666,26.472368,23.65035,23.463158,21.961578,18.970526,22.278334,22.34168,26.062382,27.195238,25.25754,22.852707,23.776142,24.298685,24.622858,19.777382,28.711071,23.765638,28.950397,32.869938,25.460777,25.041555,21.697222,30.5675,30.187052,28.557632,28.755556,32.597,26.312445,27.387222,33.239445,33.935368,38.100784,35.740555,35.488235,35.012104,34.61579,35.656666,37.56278,35.555294,35.2975,34.864666,36.9575,34.712738,36.011112,35.662632,38.3845,34.922104,33.075893,36.544888,37.0625,35.277683,32.71116,34.14447,34.769127,27.873072,34.355488,35.652435,35.775745,38.410713,35.648335,32.88537,32.343334,29.879192,32.345,35.673126,37.057556,32.505,31.02342,30.873552,28.494738,29.161842,26.583334,25.508333,25.054386,28.661667,24.484737,22.25389,23.541166,24.779737,24.563334,23.298725,24.871052,23.749374,24.247368,28.38,27.313889,23.643333,22.317894,22.015556,22.998888,23.589413,22.400589,24.795263,23.77,27.25386,25.50079,23.194,24.830587,25.158947,25.63294,26.722918,25.705,23.132631,23.55737,29.583334,24.933157,25.15079,24.65,24.551666,25.921053,25.475882,30.404,30.0125,29.68242,30.198889,34.421963,31.60443,31.243984,30.429699,32.97357,33.87111,33.282104,34.657776,35.036354,35.172222,38.357895,34.98088,35.271667,32.919445,35.290527,35.07535,30.1625,31.407158,31.633888,36.063725,34.224735,44.576054,38.829792,36.307648,39.327763],\"yaxis\":\"y\",\"type\":\"scattergl\"},{\"hovertemplate\":\"variable=predicted electricity<br>ds=%{x}<br>value=%{y}<extra></extra>\",\"legendgroup\":\"predicted electricity\",\"line\":{\"color\":\"#EF553B\",\"dash\":\"solid\"},\"marker\":{\"symbol\":\"circle\"},\"mode\":\"lines\",\"name\":\"predicted electricity\",\"showlegend\":true,\"x\":[\"2019-02-13T02:45:00\",\"2019-02-13T03:00:00\",\"2019-02-13T03:15:00\",\"2019-02-13T03:30:00\",\"2019-02-13T03:45:00\",\"2019-02-13T04:00:00\",\"2019-02-13T04:15:00\",\"2019-02-13T04:30:00\",\"2019-02-13T04:45:00\",\"2019-02-13T05:00:00\",\"2019-02-13T05:15:00\",\"2019-02-13T05:30:00\",\"2019-02-13T05:45:00\",\"2019-02-13T06:00:00\",\"2019-02-13T06:15:00\",\"2019-02-13T06:30:00\",\"2019-02-13T06:45:00\",\"2019-02-13T07:00:00\",\"2019-02-13T07:15:00\",\"2019-02-13T07:30:00\",\"2019-02-13T07:45:00\",\"2019-02-13T08:00:00\",\"2019-02-13T08:15:00\",\"2019-02-13T08:30:00\",\"2019-02-13T08:45:00\",\"2019-02-13T09:00:00\",\"2019-02-13T09:15:00\",\"2019-02-13T09:30:00\",\"2019-02-13T09:45:00\",\"2019-02-13T10:00:00\",\"2019-02-13T10:15:00\",\"2019-02-13T10:30:00\",\"2019-02-13T10:45:00\",\"2019-02-13T11:00:00\",\"2019-02-13T11:15:00\",\"2019-02-13T11:30:00\",\"2019-02-13T11:45:00\",\"2019-02-13T12:00:00\",\"2019-02-13T12:15:00\",\"2019-02-13T12:30:00\",\"2019-02-13T12:45:00\",\"2019-02-13T13:00:00\",\"2019-02-13T13:15:00\",\"2019-02-13T13:30:00\",\"2019-02-13T13:45:00\",\"2019-02-13T14:00:00\",\"2019-02-13T14:15:00\",\"2019-02-13T14:30:00\",\"2019-02-13T14:45:00\",\"2019-02-13T15:00:00\",\"2019-02-13T15:15:00\",\"2019-02-13T15:30:00\",\"2019-02-13T15:45:00\",\"2019-02-13T16:00:00\",\"2019-02-13T16:15:00\",\"2019-02-13T16:30:00\",\"2019-02-13T16:45:00\",\"2019-02-13T17:00:00\",\"2019-02-13T17:15:00\",\"2019-02-13T17:30:00\",\"2019-02-13T17:45:00\",\"2019-02-13T18:00:00\",\"2019-02-13T18:15:00\",\"2019-02-13T18:30:00\",\"2019-02-13T18:45:00\",\"2019-02-13T19:00:00\",\"2019-02-13T19:15:00\",\"2019-02-13T19:30:00\",\"2019-02-13T19:45:00\",\"2019-02-13T20:00:00\",\"2019-02-13T20:15:00\",\"2019-02-13T20:30:00\",\"2019-02-13T20:45:00\",\"2019-02-13T21:00:00\",\"2019-02-13T21:15:00\",\"2019-02-13T21:30:00\",\"2019-02-13T21:45:00\",\"2019-02-13T22:00:00\",\"2019-02-13T22:15:00\",\"2019-02-13T22:30:00\",\"2019-02-13T22:45:00\",\"2019-02-13T23:00:00\",\"2019-02-13T23:15:00\",\"2019-02-13T23:30:00\",\"2019-02-13T23:45:00\",\"2019-02-14T00:00:00\",\"2019-02-14T00:15:00\",\"2019-02-14T00:30:00\",\"2019-02-14T00:45:00\",\"2019-02-14T01:00:00\",\"2019-02-14T01:15:00\",\"2019-02-14T01:30:00\",\"2019-02-14T01:45:00\",\"2019-02-14T02:00:00\",\"2019-02-14T02:15:00\",\"2019-02-14T02:30:00\",\"2019-02-14T02:45:00\",\"2019-02-14T03:00:00\",\"2019-02-14T03:15:00\",\"2019-02-14T03:30:00\",\"2019-02-14T03:45:00\",\"2019-02-14T04:00:00\",\"2019-02-14T04:15:00\",\"2019-02-14T04:30:00\",\"2019-02-14T04:45:00\",\"2019-02-14T05:00:00\",\"2019-02-14T05:15:00\",\"2019-02-14T05:30:00\",\"2019-02-14T05:45:00\",\"2019-02-14T06:00:00\",\"2019-02-14T06:15:00\",\"2019-02-14T06:30:00\",\"2019-02-14T06:45:00\",\"2019-02-14T07:00:00\",\"2019-02-14T07:15:00\",\"2019-02-14T07:30:00\",\"2019-02-14T07:45:00\",\"2019-02-14T08:00:00\",\"2019-02-14T08:15:00\",\"2019-02-14T08:30:00\",\"2019-02-14T08:45:00\",\"2019-02-14T09:00:00\",\"2019-02-14T09:15:00\",\"2019-02-14T09:30:00\",\"2019-02-14T09:45:00\",\"2019-02-14T10:00:00\",\"2019-02-14T10:15:00\",\"2019-02-14T10:30:00\",\"2019-02-14T10:45:00\",\"2019-02-14T11:00:00\",\"2019-02-14T11:15:00\",\"2019-02-14T11:30:00\",\"2019-02-14T11:45:00\",\"2019-02-14T12:00:00\",\"2019-02-14T12:15:00\",\"2019-02-14T12:30:00\",\"2019-02-14T12:45:00\",\"2019-02-14T13:00:00\",\"2019-02-14T13:15:00\",\"2019-02-14T13:30:00\",\"2019-02-14T13:45:00\",\"2019-02-14T14:00:00\",\"2019-02-14T14:15:00\",\"2019-02-14T14:30:00\",\"2019-02-14T14:45:00\",\"2019-02-14T15:00:00\",\"2019-02-14T15:15:00\",\"2019-02-14T15:30:00\",\"2019-02-14T15:45:00\",\"2019-02-14T16:00:00\",\"2019-02-14T16:15:00\",\"2019-02-14T16:30:00\",\"2019-02-14T16:45:00\",\"2019-02-14T17:00:00\",\"2019-02-14T17:15:00\",\"2019-02-14T17:30:00\",\"2019-02-14T17:45:00\",\"2019-02-14T18:00:00\",\"2019-02-14T18:15:00\",\"2019-02-14T18:30:00\",\"2019-02-14T18:45:00\",\"2019-02-14T19:00:00\",\"2019-02-14T19:15:00\",\"2019-02-14T19:30:00\",\"2019-02-14T19:45:00\",\"2019-02-14T20:00:00\",\"2019-02-14T20:15:00\",\"2019-02-14T20:30:00\",\"2019-02-14T20:45:00\",\"2019-02-14T21:00:00\",\"2019-02-14T21:15:00\",\"2019-02-14T21:30:00\",\"2019-02-14T21:45:00\",\"2019-02-14T22:00:00\",\"2019-02-14T22:15:00\",\"2019-02-14T22:30:00\",\"2019-02-14T22:45:00\",\"2019-02-14T23:00:00\",\"2019-02-14T23:15:00\",\"2019-02-14T23:30:00\",\"2019-02-14T23:45:00\",\"2019-02-15T00:00:00\",\"2019-02-15T00:15:00\",\"2019-02-15T00:30:00\",\"2019-02-15T00:45:00\",\"2019-02-15T01:00:00\",\"2019-02-15T01:15:00\",\"2019-02-15T01:30:00\",\"2019-02-15T01:45:00\",\"2019-02-15T02:00:00\",\"2019-02-15T02:15:00\",\"2019-02-15T02:30:00\",\"2019-02-15T02:45:00\",\"2019-02-15T03:00:00\",\"2019-02-15T03:15:00\",\"2019-02-15T03:30:00\",\"2019-02-15T03:45:00\",\"2019-02-15T04:00:00\",\"2019-02-15T04:15:00\",\"2019-02-15T04:30:00\",\"2019-02-15T04:45:00\",\"2019-02-15T05:00:00\",\"2019-02-15T05:15:00\",\"2019-02-15T05:30:00\",\"2019-02-15T05:45:00\",\"2019-02-15T06:00:00\",\"2019-02-15T06:15:00\",\"2019-02-15T06:30:00\",\"2019-02-15T06:45:00\",\"2019-02-15T07:00:00\",\"2019-02-15T07:15:00\",\"2019-02-15T07:30:00\",\"2019-02-15T07:45:00\",\"2019-02-15T08:00:00\",\"2019-02-15T08:15:00\",\"2019-02-15T08:30:00\",\"2019-02-15T08:45:00\",\"2019-02-15T09:00:00\",\"2019-02-15T09:15:00\",\"2019-02-15T09:30:00\",\"2019-02-15T09:45:00\",\"2019-02-15T10:00:00\",\"2019-02-15T10:15:00\",\"2019-02-15T10:30:00\",\"2019-02-15T10:45:00\",\"2019-02-15T11:00:00\",\"2019-02-15T11:15:00\",\"2019-02-15T11:30:00\",\"2019-02-15T11:45:00\",\"2019-02-15T12:00:00\",\"2019-02-15T12:15:00\",\"2019-02-15T12:30:00\",\"2019-02-15T12:45:00\",\"2019-02-15T13:00:00\",\"2019-02-15T13:15:00\",\"2019-02-15T13:30:00\",\"2019-02-15T13:45:00\",\"2019-02-15T14:00:00\",\"2019-02-15T14:15:00\",\"2019-02-15T14:30:00\",\"2019-02-15T14:45:00\",\"2019-02-15T15:00:00\",\"2019-02-15T15:15:00\",\"2019-02-15T15:30:00\",\"2019-02-15T15:45:00\",\"2019-02-15T16:00:00\",\"2019-02-15T16:15:00\",\"2019-02-15T16:30:00\",\"2019-02-15T16:45:00\",\"2019-02-15T17:00:00\",\"2019-02-15T17:15:00\",\"2019-02-15T17:30:00\",\"2019-02-15T17:45:00\",\"2019-02-15T18:00:00\",\"2019-02-15T18:15:00\",\"2019-02-15T18:30:00\",\"2019-02-15T18:45:00\",\"2019-02-15T19:00:00\",\"2019-02-15T19:15:00\",\"2019-02-15T19:30:00\",\"2019-02-15T19:45:00\",\"2019-02-15T20:00:00\",\"2019-02-15T20:15:00\",\"2019-02-15T20:30:00\",\"2019-02-15T20:45:00\",\"2019-02-15T21:00:00\",\"2019-02-15T21:15:00\",\"2019-02-15T21:30:00\",\"2019-02-15T21:45:00\",\"2019-02-15T22:00:00\",\"2019-02-15T22:15:00\",\"2019-02-15T22:30:00\",\"2019-02-15T22:45:00\",\"2019-02-15T23:00:00\",\"2019-02-15T23:15:00\",\"2019-02-15T23:30:00\",\"2019-02-15T23:45:00\",\"2019-02-16T00:00:00\",\"2019-02-16T00:15:00\",\"2019-02-16T00:30:00\",\"2019-02-16T00:45:00\",\"2019-02-16T01:00:00\",\"2019-02-16T01:15:00\",\"2019-02-16T01:30:00\",\"2019-02-16T01:45:00\",\"2019-02-16T02:00:00\",\"2019-02-16T02:15:00\",\"2019-02-16T02:30:00\",\"2019-02-16T02:45:00\",\"2019-02-16T03:00:00\",\"2019-02-16T03:15:00\",\"2019-02-16T03:30:00\",\"2019-02-16T03:45:00\",\"2019-02-16T04:00:00\",\"2019-02-16T04:15:00\",\"2019-02-16T04:30:00\",\"2019-02-16T04:45:00\",\"2019-02-16T05:00:00\",\"2019-02-16T05:15:00\",\"2019-02-16T05:30:00\",\"2019-02-16T05:45:00\",\"2019-02-16T06:00:00\",\"2019-02-16T06:15:00\",\"2019-02-16T06:30:00\",\"2019-02-16T06:45:00\",\"2019-02-16T07:00:00\",\"2019-02-16T07:15:00\",\"2019-02-16T07:30:00\",\"2019-02-16T07:45:00\",\"2019-02-16T08:00:00\",\"2019-02-16T08:15:00\",\"2019-02-16T08:30:00\",\"2019-02-16T08:45:00\",\"2019-02-16T09:00:00\",\"2019-02-16T09:15:00\",\"2019-02-16T09:30:00\",\"2019-02-16T09:45:00\",\"2019-02-16T10:00:00\",\"2019-02-16T10:15:00\",\"2019-02-16T10:30:00\",\"2019-02-16T10:45:00\",\"2019-02-16T11:00:00\",\"2019-02-16T11:15:00\",\"2019-02-16T11:30:00\",\"2019-02-16T11:45:00\",\"2019-02-16T12:00:00\",\"2019-02-16T12:15:00\",\"2019-02-16T12:30:00\",\"2019-02-16T12:45:00\",\"2019-02-16T13:00:00\",\"2019-02-16T13:15:00\",\"2019-02-16T13:30:00\",\"2019-02-16T13:45:00\",\"2019-02-16T14:00:00\",\"2019-02-16T14:15:00\",\"2019-02-16T14:30:00\",\"2019-02-16T14:45:00\",\"2019-02-16T15:00:00\",\"2019-02-16T15:15:00\",\"2019-02-16T15:30:00\",\"2019-02-16T15:45:00\",\"2019-02-16T16:00:00\",\"2019-02-16T16:15:00\",\"2019-02-16T16:30:00\",\"2019-02-16T16:45:00\",\"2019-02-16T17:00:00\",\"2019-02-16T17:15:00\",\"2019-02-16T17:30:00\",\"2019-02-16T17:45:00\",\"2019-02-16T18:00:00\",\"2019-02-16T18:15:00\",\"2019-02-16T18:30:00\",\"2019-02-16T18:45:00\",\"2019-02-16T19:00:00\",\"2019-02-16T19:15:00\",\"2019-02-16T19:30:00\",\"2019-02-16T19:45:00\",\"2019-02-16T20:00:00\",\"2019-02-16T20:15:00\",\"2019-02-16T20:30:00\",\"2019-02-16T20:45:00\",\"2019-02-16T21:00:00\",\"2019-02-16T21:15:00\",\"2019-02-16T21:30:00\",\"2019-02-16T21:45:00\",\"2019-02-16T22:00:00\",\"2019-02-16T22:15:00\",\"2019-02-16T22:30:00\",\"2019-02-16T22:45:00\",\"2019-02-16T23:00:00\",\"2019-02-16T23:15:00\",\"2019-02-16T23:30:00\",\"2019-02-16T23:45:00\",\"2019-02-17T00:00:00\",\"2019-02-17T00:15:00\",\"2019-02-17T00:30:00\",\"2019-02-17T00:45:00\",\"2019-02-17T01:00:00\",\"2019-02-17T01:15:00\",\"2019-02-17T01:30:00\",\"2019-02-17T01:45:00\",\"2019-02-17T02:00:00\",\"2019-02-17T02:15:00\",\"2019-02-17T02:30:00\",\"2019-02-17T02:45:00\",\"2019-02-17T03:00:00\",\"2019-02-17T03:15:00\",\"2019-02-17T03:30:00\",\"2019-02-17T03:45:00\",\"2019-02-17T04:00:00\",\"2019-02-17T04:15:00\",\"2019-02-17T04:30:00\",\"2019-02-17T04:45:00\",\"2019-02-17T05:00:00\",\"2019-02-17T05:15:00\",\"2019-02-17T05:30:00\",\"2019-02-17T05:45:00\",\"2019-02-17T06:00:00\",\"2019-02-17T06:15:00\",\"2019-02-17T06:30:00\",\"2019-02-17T06:45:00\",\"2019-02-17T07:00:00\",\"2019-02-17T07:15:00\",\"2019-02-17T07:30:00\",\"2019-02-17T07:45:00\",\"2019-02-17T08:00:00\",\"2019-02-17T08:15:00\",\"2019-02-17T08:30:00\",\"2019-02-17T08:45:00\",\"2019-02-17T09:00:00\",\"2019-02-17T09:15:00\",\"2019-02-17T09:30:00\",\"2019-02-17T09:45:00\",\"2019-02-17T10:00:00\",\"2019-02-17T10:15:00\",\"2019-02-17T10:30:00\",\"2019-02-17T10:45:00\",\"2019-02-17T11:00:00\",\"2019-02-17T11:15:00\",\"2019-02-17T11:30:00\",\"2019-02-17T11:45:00\",\"2019-02-17T12:00:00\",\"2019-02-17T12:15:00\",\"2019-02-17T12:30:00\",\"2019-02-17T12:45:00\",\"2019-02-17T13:00:00\",\"2019-02-17T13:15:00\",\"2019-02-17T13:30:00\",\"2019-02-17T13:45:00\",\"2019-02-17T14:00:00\",\"2019-02-17T14:15:00\",\"2019-02-17T14:30:00\",\"2019-02-17T14:45:00\",\"2019-02-17T15:00:00\",\"2019-02-17T15:15:00\",\"2019-02-17T15:30:00\",\"2019-02-17T15:45:00\",\"2019-02-17T16:00:00\",\"2019-02-17T16:15:00\",\"2019-02-17T16:30:00\",\"2019-02-17T16:45:00\",\"2019-02-17T17:00:00\",\"2019-02-17T17:15:00\",\"2019-02-17T17:30:00\",\"2019-02-17T17:45:00\",\"2019-02-17T18:00:00\",\"2019-02-17T18:15:00\",\"2019-02-17T18:30:00\",\"2019-02-17T18:45:00\",\"2019-02-17T19:00:00\",\"2019-02-17T19:15:00\",\"2019-02-17T19:30:00\",\"2019-02-17T19:45:00\",\"2019-02-17T20:00:00\",\"2019-02-17T20:15:00\",\"2019-02-17T20:30:00\",\"2019-02-17T20:45:00\",\"2019-02-17T21:00:00\",\"2019-02-17T21:15:00\",\"2019-02-17T21:30:00\",\"2019-02-17T21:45:00\",\"2019-02-17T22:00:00\",\"2019-02-17T22:15:00\",\"2019-02-17T22:30:00\",\"2019-02-17T22:45:00\",\"2019-02-17T23:00:00\",\"2019-02-17T23:15:00\",\"2019-02-17T23:30:00\",\"2019-02-17T23:45:00\",\"2019-02-18T00:00:00\",\"2019-02-18T00:15:00\",\"2019-02-18T00:30:00\",\"2019-02-18T00:45:00\",\"2019-02-18T01:00:00\",\"2019-02-18T01:15:00\",\"2019-02-18T01:30:00\",\"2019-02-18T01:45:00\",\"2019-02-18T02:00:00\",\"2019-02-18T02:15:00\",\"2019-02-18T02:30:00\",\"2019-02-18T02:45:00\",\"2019-02-18T03:00:00\",\"2019-02-18T03:15:00\",\"2019-02-18T03:30:00\",\"2019-02-18T03:45:00\",\"2019-02-18T04:00:00\",\"2019-02-18T04:15:00\",\"2019-02-18T04:30:00\",\"2019-02-18T04:45:00\",\"2019-02-18T05:00:00\",\"2019-02-18T05:15:00\",\"2019-02-18T05:30:00\",\"2019-02-18T05:45:00\",\"2019-02-18T06:00:00\",\"2019-02-18T06:15:00\",\"2019-02-18T06:30:00\",\"2019-02-18T06:45:00\",\"2019-02-18T07:00:00\",\"2019-02-18T07:15:00\",\"2019-02-18T07:30:00\",\"2019-02-18T07:45:00\",\"2019-02-18T08:00:00\",\"2019-02-18T08:15:00\",\"2019-02-18T08:30:00\",\"2019-02-18T08:45:00\",\"2019-02-18T09:00:00\",\"2019-02-18T09:15:00\",\"2019-02-18T09:30:00\",\"2019-02-18T09:45:00\",\"2019-02-18T10:00:00\",\"2019-02-18T10:15:00\",\"2019-02-18T10:30:00\",\"2019-02-18T10:45:00\",\"2019-02-18T11:00:00\",\"2019-02-18T11:15:00\",\"2019-02-18T11:30:00\",\"2019-02-18T11:45:00\",\"2019-02-18T12:00:00\",\"2019-02-18T12:15:00\",\"2019-02-18T12:30:00\",\"2019-02-18T12:45:00\",\"2019-02-18T13:00:00\",\"2019-02-18T13:15:00\",\"2019-02-18T13:30:00\",\"2019-02-18T13:45:00\",\"2019-02-18T14:00:00\",\"2019-02-18T14:15:00\",\"2019-02-18T14:30:00\",\"2019-02-18T14:45:00\",\"2019-02-18T15:00:00\",\"2019-02-18T15:15:00\",\"2019-02-18T15:30:00\",\"2019-02-18T15:45:00\",\"2019-02-18T16:00:00\",\"2019-02-18T16:15:00\",\"2019-02-18T16:30:00\",\"2019-02-18T16:45:00\",\"2019-02-18T17:00:00\",\"2019-02-18T17:15:00\",\"2019-02-18T17:30:00\",\"2019-02-18T17:45:00\",\"2019-02-18T18:00:00\",\"2019-02-18T18:15:00\",\"2019-02-18T18:30:00\",\"2019-02-18T18:45:00\",\"2019-02-18T19:00:00\",\"2019-02-18T19:15:00\",\"2019-02-18T19:30:00\",\"2019-02-18T19:45:00\",\"2019-02-18T20:00:00\",\"2019-02-18T20:15:00\",\"2019-02-18T20:30:00\",\"2019-02-18T20:45:00\",\"2019-02-18T21:00:00\",\"2019-02-18T21:15:00\",\"2019-02-18T21:30:00\",\"2019-02-18T21:45:00\",\"2019-02-18T22:00:00\",\"2019-02-18T22:15:00\",\"2019-02-18T22:30:00\",\"2019-02-18T22:45:00\",\"2019-02-18T23:00:00\",\"2019-02-18T23:15:00\",\"2019-02-18T23:30:00\",\"2019-02-18T23:45:00\",\"2019-02-19T00:00:00\",\"2019-02-19T00:15:00\",\"2019-02-19T00:30:00\",\"2019-02-19T00:45:00\",\"2019-02-19T01:00:00\",\"2019-02-19T01:15:00\",\"2019-02-19T01:30:00\",\"2019-02-19T01:45:00\",\"2019-02-19T02:00:00\",\"2019-02-19T02:15:00\",\"2019-02-19T02:30:00\",\"2019-02-19T02:45:00\",\"2019-02-19T03:00:00\",\"2019-02-19T03:15:00\",\"2019-02-19T03:30:00\",\"2019-02-19T03:45:00\",\"2019-02-19T04:00:00\",\"2019-02-19T04:15:00\",\"2019-02-19T04:30:00\",\"2019-02-19T04:45:00\",\"2019-02-19T05:00:00\",\"2019-02-19T05:15:00\",\"2019-02-19T05:30:00\",\"2019-02-19T05:45:00\",\"2019-02-19T06:00:00\",\"2019-02-19T06:15:00\",\"2019-02-19T06:30:00\",\"2019-02-19T06:45:00\",\"2019-02-19T07:00:00\",\"2019-02-19T07:15:00\",\"2019-02-19T07:30:00\",\"2019-02-19T07:45:00\",\"2019-02-19T08:00:00\",\"2019-02-19T08:15:00\",\"2019-02-19T08:30:00\",\"2019-02-19T08:45:00\",\"2019-02-19T09:00:00\",\"2019-02-19T09:15:00\",\"2019-02-19T09:30:00\",\"2019-02-19T09:45:00\",\"2019-02-19T10:00:00\",\"2019-02-19T10:15:00\",\"2019-02-19T10:30:00\",\"2019-02-19T10:45:00\",\"2019-02-19T11:00:00\",\"2019-02-19T11:15:00\",\"2019-02-19T11:30:00\",\"2019-02-19T11:45:00\",\"2019-02-19T12:00:00\",\"2019-02-19T12:15:00\",\"2019-02-19T12:30:00\",\"2019-02-19T12:45:00\",\"2019-02-19T13:00:00\",\"2019-02-19T13:15:00\",\"2019-02-19T13:30:00\",\"2019-02-19T13:45:00\",\"2019-02-19T14:00:00\",\"2019-02-19T14:15:00\",\"2019-02-19T14:30:00\",\"2019-02-19T14:45:00\",\"2019-02-19T15:00:00\",\"2019-02-19T15:15:00\",\"2019-02-19T15:30:00\",\"2019-02-19T15:45:00\",\"2019-02-19T16:00:00\",\"2019-02-19T16:15:00\",\"2019-02-19T16:30:00\",\"2019-02-19T16:45:00\",\"2019-02-19T17:00:00\",\"2019-02-19T17:15:00\",\"2019-02-19T17:30:00\",\"2019-02-19T17:45:00\",\"2019-02-19T18:00:00\",\"2019-02-19T18:15:00\",\"2019-02-19T18:30:00\",\"2019-02-19T18:45:00\",\"2019-02-19T19:00:00\",\"2019-02-19T19:15:00\",\"2019-02-19T19:30:00\",\"2019-02-19T19:45:00\",\"2019-02-19T20:00:00\",\"2019-02-19T20:15:00\",\"2019-02-19T20:30:00\",\"2019-02-19T20:45:00\",\"2019-02-19T21:00:00\",\"2019-02-19T21:15:00\",\"2019-02-19T21:30:00\",\"2019-02-19T21:45:00\",\"2019-02-19T22:00:00\",\"2019-02-19T22:15:00\",\"2019-02-19T22:30:00\",\"2019-02-19T22:45:00\",\"2019-02-19T23:00:00\",\"2019-02-19T23:15:00\",\"2019-02-19T23:30:00\",\"2019-02-19T23:45:00\",\"2019-02-20T00:00:00\",\"2019-02-20T00:15:00\",\"2019-02-20T00:30:00\",\"2019-02-20T00:45:00\",\"2019-02-20T01:00:00\",\"2019-02-20T01:15:00\",\"2019-02-20T01:30:00\",\"2019-02-20T01:45:00\",\"2019-02-20T02:00:00\",\"2019-02-20T02:15:00\",\"2019-02-20T02:30:00\",\"2019-02-20T02:45:00\",\"2019-02-20T03:00:00\",\"2019-02-20T03:15:00\",\"2019-02-20T03:30:00\",\"2019-02-20T03:45:00\",\"2019-02-20T04:00:00\",\"2019-02-20T04:15:00\",\"2019-02-20T04:30:00\",\"2019-02-20T04:45:00\",\"2019-02-20T05:00:00\",\"2019-02-20T05:15:00\",\"2019-02-20T05:30:00\",\"2019-02-20T05:45:00\",\"2019-02-20T06:00:00\",\"2019-02-20T06:15:00\",\"2019-02-20T06:30:00\",\"2019-02-20T06:45:00\",\"2019-02-20T07:00:00\",\"2019-02-20T07:15:00\",\"2019-02-20T07:30:00\",\"2019-02-20T07:45:00\",\"2019-02-20T08:00:00\",\"2019-02-20T08:15:00\",\"2019-02-20T08:30:00\",\"2019-02-20T08:45:00\",\"2019-02-20T09:00:00\",\"2019-02-20T09:15:00\",\"2019-02-20T09:30:00\",\"2019-02-20T09:45:00\",\"2019-02-20T10:00:00\",\"2019-02-20T10:15:00\",\"2019-02-20T10:30:00\",\"2019-02-20T10:45:00\",\"2019-02-20T11:00:00\",\"2019-02-20T11:15:00\",\"2019-02-20T11:30:00\",\"2019-02-20T11:45:00\",\"2019-02-20T12:00:00\",\"2019-02-20T12:15:00\",\"2019-02-20T12:30:00\",\"2019-02-20T12:45:00\",\"2019-02-20T13:00:00\",\"2019-02-20T13:15:00\",\"2019-02-20T13:30:00\",\"2019-02-20T13:45:00\",\"2019-02-20T14:00:00\",\"2019-02-20T14:15:00\",\"2019-02-20T14:30:00\",\"2019-02-20T14:45:00\",\"2019-02-20T15:00:00\",\"2019-02-20T15:15:00\",\"2019-02-20T15:30:00\",\"2019-02-20T15:45:00\",\"2019-02-20T16:00:00\",\"2019-02-20T16:15:00\",\"2019-02-20T16:30:00\",\"2019-02-20T16:45:00\",\"2019-02-20T17:00:00\",\"2019-02-20T17:15:00\",\"2019-02-20T17:30:00\",\"2019-02-20T17:45:00\",\"2019-02-20T18:00:00\",\"2019-02-20T18:15:00\",\"2019-02-20T18:30:00\",\"2019-02-20T18:45:00\",\"2019-02-20T19:00:00\",\"2019-02-20T19:15:00\",\"2019-02-20T19:30:00\",\"2019-02-20T19:45:00\",\"2019-02-20T20:00:00\",\"2019-02-20T20:15:00\",\"2019-02-20T20:30:00\",\"2019-02-20T20:45:00\",\"2019-02-20T21:00:00\"],\"xaxis\":\"x\",\"y\":[21.827402,22.5427,18.021164,11.566576,9.26545,14.19446,11.440506,7.328518,10.889462,8.610346,5.753107,3.816925,-1.1999817,5.4476585,3.8435955,3.2954636,3.6617718,9.7630005,11.118383,7.732073,6.8701134,3.6879349,4.0869694,3.4066353,2.0543518,2.3149872,2.431881,6.82135,1.7500648,3.2929459,3.4321136,6.3562737,8.891489,9.254908,6.505089,3.468235,5.828802,5.891226,0.89216614,2.8377533,-0.83537674,2.6926136,2.4547234,3.723608,5.7511463,8.366875,12.920033,11.152531,10.48053,13.072111,14.803096,17.00269,23.190922,25.354757,30.501434,28.878296,28.883926,22.038343,22.584764,22.623322,21.88174,19.674019,20.295546,21.634485,21.192745,22.30604,23.359907,21.909266,22.669724,22.13961,18.493965,15.5187645,15.584465,16.215153,16.507301,14.619753,15.930043,13.461114,13.1641,15.036184,14.436529,12.790639,12.106769,13.342095,13.8275585,13.740901,12.197747,12.998685,12.867514,13.205272,12.549112,9.34803,14.9515915,10.290455,9.795491,6.4424915,9.594066,10.837322,8.51017,8.85976,9.6981,6.2127724,7.412405,9.347013,7.375841,11.038981,9.088545,11.299887,9.9390335,5.669935,4.926901,4.5000763,4.830185,5.056692,5.079218,7.0226803,5.3289795,5.387226,4.5798836,4.685253,4.820692,4.772726,5.7521954,4.3018074,4.6652393,4.3929768,3.7526512,5.7280293,5.34877,3.3933582,2.9792976,2.6528664,0.47872734,-0.15880394,-0.9459133,0.17629814,-1.3134804,-2.243124,-0.17116547,1.0772591,0.74367523,3.0493164,5.9991493,8.6790085,11.179895,12.378337,14.106155,14.882011,14.629929,15.713674,17.29388,18.131334,15.509288,14.678294,15.070013,12.746888,15.650233,15.324557,17.610222,16.76815,17.633354,13.902673,13.22039,15.249009,16.689907,19.163746,21.890207,22.694996,21.36461,20.743782,18.803738,18.127523,17.676912,27.7085,21.461994,19.675236,19.302402,17.19934,17.509068,16.829826,16.41138,15.701394,14.211226,13.359637,12.669888,12.333535,14.299472,15.336002,13.265466,12.394928,14.972584,12.989036,8.900129,10.208778,9.0546,5.1465225,4.765623,5.9208813,3.881258,3.0823212,6.2134533,6.383463,3.6374454,1.9114246,2.6505356,3.1704273,3.409727,3.790184,5.7570877,6.6884346,7.5884304,6.6383343,6.023367,4.3592987,3.3887024,5.6810627,3.9696732,8.427675,8.963676,13.917103,10.983474,10.766661,12.334122,13.030975,9.054796,10.438928,10.18152,9.253931,10.2781925,13.324393,11.8499775,11.220674,14.846393,15.379328,9.702597,13.331749,11.622825,11.580316,11.604924,18.669847,19.551208,20.193752,23.242977,27.012247,27.565628,30.148623,31.44288,30.766191,30.592892,27.504623,19.27846,19.575638,16.88332,19.33208,22.194641,22.752108,24.385944,23.702133,24.870949,23.161106,18.703499,15.673609,21.91073,20.239227,17.175468,14.714509,14.258338,13.061685,14.323214,15.214896,16.655682,17.247227,16.401842,18.008694,18.247553,17.280472,17.12753,19.371046,21.175844,21.434113,20.721874,15.522516,17.773228,16.967834,18.539097,19.10337,19.416561,17.848959,15.959485,13.862543,16.269176,16.958607,18.299782,18.738277,18.880867,19.546406,19.009851,19.330889,20.00435,19.46055,19.544086,18.456427,18.630707,18.962112,19.407164,19.932331,19.4971,20.527517,20.135134,19.816929,16.188808,12.166234,10.323873,6.8013554,7.0846863,7.0640373,15.174545,17.777687,10.261554,3.4255142,3.2868729,2.1410465,3.123209,2.5406418,3.9408913,1.3366203,7.360546,1.4515057,-0.3373108,-0.59220123,1.3796825,1.5167847,-0.38466072,4.012394,6.2536945,1.7558956,4.7195663,0.7002773,4.905079,3.5793743,2.5465183,3.567255,2.1170235,8.905491,5.978979,5.3778744,6.4143734,1.4785347,0.46311378,0.55340385,-2.0784225,-3.5033817,-1.7390308,1.7618961,4.885439,4.742939,4.1595287,-2.5712585,-0.11630058,-0.51109123,2.7894936,3.9310017,6.548092,10.657503,5.3345356,7.786131,8.951056,5.8344364,10.148718,10.46847,9.401778,9.924222,7.0107765,4.133932,4.274954,3.8946896,3.888033,3.3962288,5.728342,1.2304306,1.0533199,0.42546272,2.6203632,5.7381096,6.877035,5.888376,4.78561,4.603018,5.118248,0.05788803,4.198166,2.7493572,1.0248814,4.9449406,2.6631393,4.6549053,2.6420593,5.2207584,4.3792458,3.9593391,6.657402,7.292719,7.2520676,7.232748,8.488129,6.937174,9.229656,13.384716,14.455939,16.038984,15.370369,19.310907,23.969793,20.443054,18.636593,17.388924,15.623115,16.216278,17.539345,18.649826,19.10442,18.468414,18.125141,19.192385,18.996971,18.810108,18.05695,18.533787,21.020073,22.706688,22.017328,22.53875,22.274984,21.60819,20.13385,20.742603,22.165064,23.625078,28.055386,28.783749,29.379627,28.839813,25.648464,25.015882,21.84443,22.923372,22.572985,23.417118,23.401264,24.210756,24.298649,30.495367,31.824741,28.83009,27.450842,25.021357,27.558918,26.615854,26.265408,27.033342,30.435974,32.835182,30.800007,30.264763,26.27641,24.707163,23.160654,21.839294,20.702461,18.361294,18.817104,19.329735,20.428396,20.250761,20.537882,22.70148,22.913553,23.556137,23.420101,24.65146,25.174618,25.621264,25.001465,24.59018,24.838617,24.936771,24.710238,26.760334,28.40861,25.380676,21.517212,20.78973,21.219711,21.426294,22.215553,21.973368,22.640148,23.92714,26.12337,22.564777,22.43938,22.285519,22.18715,22.397434,20.580328,19.397093,20.377413,22.25437,23.248758,24.427301,23.456495,22.805853,20.556042,22.231546,23.220503,23.317135,24.905413,24.35271,21.68372,20.576977,19.065922,20.311535,19.977694,21.595554,23.729136,24.526222,25.406906,24.232925,23.184498,24.925705,25.397776,24.063469,24.298689,23.524841,23.798338,23.893614,23.659872,23.79639,24.049852,24.599697,25.83242,26.059206,27.028162,26.387156,25.84817,24.86095,25.991371,25.05582,24.510794,24.496939,23.32814,22.683386,23.393042,24.825178,26.463789,26.675627,27.586159,27.265594,25.160519,27.447508,28.47356,29.073952,29.116564,29.311466,32.22227,32.139217,32.478344,33.253212,33.195763,30.35819,32.352524,30.110527,27.902584,26.276205,26.63179,26.74456,27.105713,26.024244,23.973597,23.54889,24.226933,25.62952,26.419909,27.611277,27.689966,29.297094,29.681034,27.92883,27.672249,25.8597,26.05338,26.129307,25.646822,26.197433,25.970123,26.787394,26.203844,27.01431,25.202879,25.444279,25.63782,25.423002,26.06577,26.99107,26.852646,27.619667,25.514261,25.87193,23.634268,24.391644,22.306005,19.73784,19.387373,18.475199,20.299839,22.332577,23.527332,21.478292,22.822144,24.086132,25.206146,23.714745,26.723686,24.949726,24.961073,24.773901,27.44777,26.648731,25.27953,28.507126,28.743673,27.935223,28.214108,28.109554,26.947983,27.63163,29.238558,31.22002,33.181656,33.02321,33.055843,33.658215,33.305443,33.633312,34.52843,33.736984,33.83248,33.887222,34.71309,34.00066,33.857784,33.19775,34.221622,33.959015,33.38925,34.552074,34.360275,34.112804,33.12355,33.169357,32.8795,30.63089,31.873909,32.794724,32.336914,33.366585,32.832047,32.24773,31.679045,31.028114,31.201147,31.72399,32.04981,31.388697,29.852402,28.704506,27.376831,26.639244,25.339989,24.414627,23.795876,23.985594,22.857958,22.871864,22.963932,22.962967,22.963818,22.803898,23.034916,22.894852,22.91466,23.562849,24.284819,24.058453,23.2194,23.12848,22.747974,22.901016,22.21586,22.771349,22.044762,22.613747,22.912739,22.89071,22.854713,22.714024,22.5609,22.387695,22.40673,22.664104,22.902435,23.441996,23.704065,24.10443,24.374645,24.420374,24.720907,25.121077,26.847717,27.574675,28.41575,29.232378,30.900208,30.601711,30.7621,31.096642,31.710232,32.1374,31.903137,31.738869,31.969576,32.786564,33.94611,33.553646,34.25981,33.968494,34.70163,34.824184,33.472927,32.7183,32.324223,33.12082,32.909378,35.743618,34.987522,34.62641],\"yaxis\":\"y\",\"type\":\"scattergl\"}],                        {\"template\":{\"data\":{\"histogram2dcontour\":[{\"type\":\"histogram2dcontour\",\"colorbar\":{\"outlinewidth\":0,\"ticks\":\"\"},\"colorscale\":[[0.0,\"#0d0887\"],[0.1111111111111111,\"#46039f\"],[0.2222222222222222,\"#7201a8\"],[0.3333333333333333,\"#9c179e\"],[0.4444444444444444,\"#bd3786\"],[0.5555555555555556,\"#d8576b\"],[0.6666666666666666,\"#ed7953\"],[0.7777777777777778,\"#fb9f3a\"],[0.8888888888888888,\"#fdca26\"],[1.0,\"#f0f921\"]]}],\"choropleth\":[{\"type\":\"choropleth\",\"colorbar\":{\"outlinewidth\":0,\"ticks\":\"\"}}],\"histogram2d\":[{\"type\":\"histogram2d\",\"colorbar\":{\"outlinewidth\":0,\"ticks\":\"\"},\"colorscale\":[[0.0,\"#0d0887\"],[0.1111111111111111,\"#46039f\"],[0.2222222222222222,\"#7201a8\"],[0.3333333333333333,\"#9c179e\"],[0.4444444444444444,\"#bd3786\"],[0.5555555555555556,\"#d8576b\"],[0.6666666666666666,\"#ed7953\"],[0.7777777777777778,\"#fb9f3a\"],[0.8888888888888888,\"#fdca26\"],[1.0,\"#f0f921\"]]}],\"heatmap\":[{\"type\":\"heatmap\",\"colorbar\":{\"outlinewidth\":0,\"ticks\":\"\"},\"colorscale\":[[0.0,\"#0d0887\"],[0.1111111111111111,\"#46039f\"],[0.2222222222222222,\"#7201a8\"],[0.3333333333333333,\"#9c179e\"],[0.4444444444444444,\"#bd3786\"],[0.5555555555555556,\"#d8576b\"],[0.6666666666666666,\"#ed7953\"],[0.7777777777777778,\"#fb9f3a\"],[0.8888888888888888,\"#fdca26\"],[1.0,\"#f0f921\"]]}],\"heatmapgl\":[{\"type\":\"heatmapgl\",\"colorbar\":{\"outlinewidth\":0,\"ticks\":\"\"},\"colorscale\":[[0.0,\"#0d0887\"],[0.1111111111111111,\"#46039f\"],[0.2222222222222222,\"#7201a8\"],[0.3333333333333333,\"#9c179e\"],[0.4444444444444444,\"#bd3786\"],[0.5555555555555556,\"#d8576b\"],[0.6666666666666666,\"#ed7953\"],[0.7777777777777778,\"#fb9f3a\"],[0.8888888888888888,\"#fdca26\"],[1.0,\"#f0f921\"]]}],\"contourcarpet\":[{\"type\":\"contourcarpet\",\"colorbar\":{\"outlinewidth\":0,\"ticks\":\"\"}}],\"contour\":[{\"type\":\"contour\",\"colorbar\":{\"outlinewidth\":0,\"ticks\":\"\"},\"colorscale\":[[0.0,\"#0d0887\"],[0.1111111111111111,\"#46039f\"],[0.2222222222222222,\"#7201a8\"],[0.3333333333333333,\"#9c179e\"],[0.4444444444444444,\"#bd3786\"],[0.5555555555555556,\"#d8576b\"],[0.6666666666666666,\"#ed7953\"],[0.7777777777777778,\"#fb9f3a\"],[0.8888888888888888,\"#fdca26\"],[1.0,\"#f0f921\"]]}],\"surface\":[{\"type\":\"surface\",\"colorbar\":{\"outlinewidth\":0,\"ticks\":\"\"},\"colorscale\":[[0.0,\"#0d0887\"],[0.1111111111111111,\"#46039f\"],[0.2222222222222222,\"#7201a8\"],[0.3333333333333333,\"#9c179e\"],[0.4444444444444444,\"#bd3786\"],[0.5555555555555556,\"#d8576b\"],[0.6666666666666666,\"#ed7953\"],[0.7777777777777778,\"#fb9f3a\"],[0.8888888888888888,\"#fdca26\"],[1.0,\"#f0f921\"]]}],\"mesh3d\":[{\"type\":\"mesh3d\",\"colorbar\":{\"outlinewidth\":0,\"ticks\":\"\"}}],\"scatter\":[{\"fillpattern\":{\"fillmode\":\"overlay\",\"size\":10,\"solidity\":0.2},\"type\":\"scatter\"}],\"parcoords\":[{\"type\":\"parcoords\",\"line\":{\"colorbar\":{\"outlinewidth\":0,\"ticks\":\"\"}}}],\"scatterpolargl\":[{\"type\":\"scatterpolargl\",\"marker\":{\"colorbar\":{\"outlinewidth\":0,\"ticks\":\"\"}}}],\"bar\":[{\"error_x\":{\"color\":\"#2a3f5f\"},\"error_y\":{\"color\":\"#2a3f5f\"},\"marker\":{\"line\":{\"color\":\"#E5ECF6\",\"width\":0.5},\"pattern\":{\"fillmode\":\"overlay\",\"size\":10,\"solidity\":0.2}},\"type\":\"bar\"}],\"scattergeo\":[{\"type\":\"scattergeo\",\"marker\":{\"colorbar\":{\"outlinewidth\":0,\"ticks\":\"\"}}}],\"scatterpolar\":[{\"type\":\"scatterpolar\",\"marker\":{\"colorbar\":{\"outlinewidth\":0,\"ticks\":\"\"}}}],\"histogram\":[{\"marker\":{\"pattern\":{\"fillmode\":\"overlay\",\"size\":10,\"solidity\":0.2}},\"type\":\"histogram\"}],\"scattergl\":[{\"type\":\"scattergl\",\"marker\":{\"colorbar\":{\"outlinewidth\":0,\"ticks\":\"\"}}}],\"scatter3d\":[{\"type\":\"scatter3d\",\"line\":{\"colorbar\":{\"outlinewidth\":0,\"ticks\":\"\"}},\"marker\":{\"colorbar\":{\"outlinewidth\":0,\"ticks\":\"\"}}}],\"scattermapbox\":[{\"type\":\"scattermapbox\",\"marker\":{\"colorbar\":{\"outlinewidth\":0,\"ticks\":\"\"}}}],\"scatterternary\":[{\"type\":\"scatterternary\",\"marker\":{\"colorbar\":{\"outlinewidth\":0,\"ticks\":\"\"}}}],\"scattercarpet\":[{\"type\":\"scattercarpet\",\"marker\":{\"colorbar\":{\"outlinewidth\":0,\"ticks\":\"\"}}}],\"carpet\":[{\"aaxis\":{\"endlinecolor\":\"#2a3f5f\",\"gridcolor\":\"white\",\"linecolor\":\"white\",\"minorgridcolor\":\"white\",\"startlinecolor\":\"#2a3f5f\"},\"baxis\":{\"endlinecolor\":\"#2a3f5f\",\"gridcolor\":\"white\",\"linecolor\":\"white\",\"minorgridcolor\":\"white\",\"startlinecolor\":\"#2a3f5f\"},\"type\":\"carpet\"}],\"table\":[{\"cells\":{\"fill\":{\"color\":\"#EBF0F8\"},\"line\":{\"color\":\"white\"}},\"header\":{\"fill\":{\"color\":\"#C8D4E3\"},\"line\":{\"color\":\"white\"}},\"type\":\"table\"}],\"barpolar\":[{\"marker\":{\"line\":{\"color\":\"#E5ECF6\",\"width\":0.5},\"pattern\":{\"fillmode\":\"overlay\",\"size\":10,\"solidity\":0.2}},\"type\":\"barpolar\"}],\"pie\":[{\"automargin\":true,\"type\":\"pie\"}]},\"layout\":{\"autotypenumbers\":\"strict\",\"colorway\":[\"#636efa\",\"#EF553B\",\"#00cc96\",\"#ab63fa\",\"#FFA15A\",\"#19d3f3\",\"#FF6692\",\"#B6E880\",\"#FF97FF\",\"#FECB52\"],\"font\":{\"color\":\"#2a3f5f\"},\"hovermode\":\"closest\",\"hoverlabel\":{\"align\":\"left\"},\"paper_bgcolor\":\"white\",\"plot_bgcolor\":\"#E5ECF6\",\"polar\":{\"bgcolor\":\"#E5ECF6\",\"angularaxis\":{\"gridcolor\":\"white\",\"linecolor\":\"white\",\"ticks\":\"\"},\"radialaxis\":{\"gridcolor\":\"white\",\"linecolor\":\"white\",\"ticks\":\"\"}},\"ternary\":{\"bgcolor\":\"#E5ECF6\",\"aaxis\":{\"gridcolor\":\"white\",\"linecolor\":\"white\",\"ticks\":\"\"},\"baxis\":{\"gridcolor\":\"white\",\"linecolor\":\"white\",\"ticks\":\"\"},\"caxis\":{\"gridcolor\":\"white\",\"linecolor\":\"white\",\"ticks\":\"\"}},\"coloraxis\":{\"colorbar\":{\"outlinewidth\":0,\"ticks\":\"\"}},\"colorscale\":{\"sequential\":[[0.0,\"#0d0887\"],[0.1111111111111111,\"#46039f\"],[0.2222222222222222,\"#7201a8\"],[0.3333333333333333,\"#9c179e\"],[0.4444444444444444,\"#bd3786\"],[0.5555555555555556,\"#d8576b\"],[0.6666666666666666,\"#ed7953\"],[0.7777777777777778,\"#fb9f3a\"],[0.8888888888888888,\"#fdca26\"],[1.0,\"#f0f921\"]],\"sequentialminus\":[[0.0,\"#0d0887\"],[0.1111111111111111,\"#46039f\"],[0.2222222222222222,\"#7201a8\"],[0.3333333333333333,\"#9c179e\"],[0.4444444444444444,\"#bd3786\"],[0.5555555555555556,\"#d8576b\"],[0.6666666666666666,\"#ed7953\"],[0.7777777777777778,\"#fb9f3a\"],[0.8888888888888888,\"#fdca26\"],[1.0,\"#f0f921\"]],\"diverging\":[[0,\"#8e0152\"],[0.1,\"#c51b7d\"],[0.2,\"#de77ae\"],[0.3,\"#f1b6da\"],[0.4,\"#fde0ef\"],[0.5,\"#f7f7f7\"],[0.6,\"#e6f5d0\"],[0.7,\"#b8e186\"],[0.8,\"#7fbc41\"],[0.9,\"#4d9221\"],[1,\"#276419\"]]},\"xaxis\":{\"gridcolor\":\"white\",\"linecolor\":\"white\",\"ticks\":\"\",\"title\":{\"standoff\":15},\"zerolinecolor\":\"white\",\"automargin\":true,\"zerolinewidth\":2},\"yaxis\":{\"gridcolor\":\"white\",\"linecolor\":\"white\",\"ticks\":\"\",\"title\":{\"standoff\":15},\"zerolinecolor\":\"white\",\"automargin\":true,\"zerolinewidth\":2},\"scene\":{\"xaxis\":{\"backgroundcolor\":\"#E5ECF6\",\"gridcolor\":\"white\",\"linecolor\":\"white\",\"showbackground\":true,\"ticks\":\"\",\"zerolinecolor\":\"white\",\"gridwidth\":2},\"yaxis\":{\"backgroundcolor\":\"#E5ECF6\",\"gridcolor\":\"white\",\"linecolor\":\"white\",\"showbackground\":true,\"ticks\":\"\",\"zerolinecolor\":\"white\",\"gridwidth\":2},\"zaxis\":{\"backgroundcolor\":\"#E5ECF6\",\"gridcolor\":\"white\",\"linecolor\":\"white\",\"showbackground\":true,\"ticks\":\"\",\"zerolinecolor\":\"white\",\"gridwidth\":2}},\"shapedefaults\":{\"line\":{\"color\":\"#2a3f5f\"}},\"annotationdefaults\":{\"arrowcolor\":\"#2a3f5f\",\"arrowhead\":0,\"arrowwidth\":1},\"geo\":{\"bgcolor\":\"white\",\"landcolor\":\"#E5ECF6\",\"subunitcolor\":\"white\",\"showland\":true,\"showlakes\":true,\"lakecolor\":\"white\"},\"title\":{\"x\":0.05},\"mapbox\":{\"style\":\"light\"}}},\"xaxis\":{\"anchor\":\"y\",\"domain\":[0.0,1.0],\"title\":{\"text\":\"ds\"}},\"yaxis\":{\"anchor\":\"x\",\"domain\":[0.0,1.0],\"title\":{\"text\":\"value\"}},\"legend\":{\"title\":{\"text\":\"variable\"},\"tracegroupgap\":0},\"margin\":{\"t\":60}},                        {\"responsive\": true}                    ).then(function(){\n",
              "                            \n",
              "var gd = document.getElementById('a3821586-5ab6-48a9-a9b8-2c3d4c68e581');\n",
              "var x = new MutationObserver(function (mutations, observer) {{\n",
              "        var display = window.getComputedStyle(gd).display;\n",
              "        if (!display || display === 'none') {{\n",
              "            console.log([gd, 'removed!']);\n",
              "            Plotly.purge(gd);\n",
              "            observer.disconnect();\n",
              "        }}\n",
              "}});\n",
              "\n",
              "// Listen for the removal of the full notebook cells\n",
              "var notebookContainer = gd.closest('#notebook-container');\n",
              "if (notebookContainer) {{\n",
              "    x.observe(notebookContainer, {childList: true});\n",
              "}}\n",
              "\n",
              "// Listen for the clearing of the current output cell\n",
              "var outputEl = gd.closest('.output');\n",
              "if (outputEl) {{\n",
              "    x.observe(outputEl, {childList: true});\n",
              "}}\n",
              "\n",
              "                        })                };                            </script>        </div>\n",
              "</body>\n",
              "</html>"
            ]
          },
          "metadata": {},
          "output_type": "display_data"
        }
      ],
      "source": [
        "figDict = {}\n",
        "figDict['predicted electricity'] = testResultsDict['pred']\n",
        "figDict['observed electricity']  = testResultsDict['obs']\n",
        "figDict['time']                  = testResultsDict['obs'].index\n",
        "\n",
        "print(\"sMAPE Measure\", smape(figDict['observed electricity'], figDict['predicted electricity']))\n",
        "\n",
        "fig = px.line(figDict, x=figDict['time'], y=[\"observed electricity\",\"predicted electricity\"])\n",
        "fig.show()"
      ]
    },
    {
      "cell_type": "markdown",
      "metadata": {
        "id": "2e6v4HQrsqqV"
      },
      "source": [
        "### Components\n"
      ]
    },
    {
      "cell_type": "code",
      "execution_count": null,
      "metadata": {
        "id": "hCUwBXOTanF3"
      },
      "outputs": [],
      "source": [
        "forecast = m.predict(df=testData)\n",
        "m.plot_components(forecast)"
      ]
    },
    {
      "cell_type": "code",
      "execution_count": null,
      "metadata": {
        "id": "-eOQry7Os0Tj"
      },
      "outputs": [],
      "source": [
        "m.plot_parameters()"
      ]
    },
    {
      "cell_type": "code",
      "execution_count": null,
      "metadata": {
        "colab": {
          "base_uri": "https://localhost:8080/",
          "height": 113,
          "referenced_widgets": [
            "9dee5a535e7144239b037f6138761da4",
            "1c3c7ba8a56240018c894073f4cd7a25",
            "68d86e9b6fdb4d49962ac6614c0b3e6d"
          ]
        },
        "id": "cCvuFtLZl7ty",
        "outputId": "d71ba93f-0432-42b9-a5f9-dd553109c4c2"
      },
      "outputs": [
        {
          "data": {
            "application/vnd.jupyter.widget-view+json": {
              "model_id": "9dee5a535e7144239b037f6138761da4",
              "version_major": 2,
              "version_minor": 0
            },
            "text/plain": [
              "  0%|          | 0/263 [00:00<?, ?it/s]"
            ]
          },
          "metadata": {},
          "output_type": "display_data"
        },
        {
          "data": {
            "application/vnd.jupyter.widget-view+json": {
              "model_id": "1c3c7ba8a56240018c894073f4cd7a25",
              "version_major": 2,
              "version_minor": 0
            },
            "text/plain": [
              "  0%|          | 0/263 [00:00<?, ?it/s]"
            ]
          },
          "metadata": {},
          "output_type": "display_data"
        },
        {
          "data": {
            "application/vnd.jupyter.widget-view+json": {
              "model_id": "68d86e9b6fdb4d49962ac6614c0b3e6d",
              "version_major": 2,
              "version_minor": 0
            },
            "text/plain": [
              "  0%|          | 0/263 [00:00<?, ?it/s]"
            ]
          },
          "metadata": {},
          "output_type": "display_data"
        },
        {
          "name": "stderr",
          "output_type": "stream",
          "text": [
            ""
          ]
        }
      ],
      "source": [
        "# fit a model on training data and evaluate on validation set.\n",
        "metrics_train1 = m.fit(df=train, freq=\"H\")\n",
        "metrics_val = m.test(df=valid)\n",
        "metrics_test = m.test(df=test)\n",
        "\n",
        "# # refit model on training and validation data and evaluate on test set.\n",
        "# metrics_train2 = m.fit(df=df_train_val, freq=\"H\")\n",
        "# metrics_test = m.test(df=df_test)"
      ]
    },
    {
      "cell_type": "code",
      "execution_count": null,
      "metadata": {
        "id": "LqFcxjZJXGym"
      },
      "outputs": [],
      "source": [
        "# forecast = m.predict(valid)\n",
        "# fig = m.plot(forecast)\n",
        "# comp = m.plot_components(forecast)\n",
        "# # param = m.plot_parameters()"
      ]
    }
  ]
}